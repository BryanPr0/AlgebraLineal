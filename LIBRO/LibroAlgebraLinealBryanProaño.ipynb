{
  "nbformat": 4,
  "nbformat_minor": 0,
  "metadata": {
    "colab": {
      "provenance": [],
      "authorship_tag": "ABX9TyOnl1Tkppa35ip3n7SwmRur",
      "include_colab_link": true
    },
    "kernelspec": {
      "name": "python3",
      "display_name": "Python 3"
    },
    "language_info": {
      "name": "python"
    }
  },
  "cells": [
    {
      "cell_type": "markdown",
      "metadata": {
        "id": "view-in-github",
        "colab_type": "text"
      },
      "source": [
        "<a href=\"https://colab.research.google.com/github/BryanPr0/AlgebraLineal/blob/main/LIBRO/LibroAlgebraLinealBryanProa%C3%B1o.ipynb\" target=\"_parent\"><img src=\"https://colab.research.google.com/assets/colab-badge.svg\" alt=\"Open In Colab\"/></a>"
      ]
    },
    {
      "cell_type": "markdown",
      "source": [
        "###**Definición de matriz**\n",
        "\n",
        "Definición y tipos de matrices.\n",
        "Una matriz es una estructura de datos que organiza números o variables en filas y columnas. Cada elemento de la matriz está ubicado en una posición específica que se identifica por su fila y su columna. Las matrices se utilizan en una gran variedad de aplicaciones, desde la resolución de sistemas de ecuaciones hasta el análisis de datos.\n",
        "\n",
        "Existen varios tipos de matrices, entre los que se destacan las matrices cuadradas, las matrices rectangulares, las matrices diagonales y las matrices identidad. Las matrices cuadradas tienen el mismo número de filas y columnas, las rectangulares tienen un número distinto de filas y columnas, las diagonales tienen elementos distintos de cero solo en la diagonal principal, y las identidad tienen elementos iguales a 1 en la diagonal principal y ceros en todas las demás posiciones.\n",
        "\n",
        "Cada uno de los números  que conforman la matriz se denomina elemento y se denotan por $(a_{ij})$ donde $i$ representa el número de fila y $j$ el número de la columna en que se encuentra el elemento de la matriz $A$. El número de filas y columnas de una matriz respresenta la  dimensión de una matriz, por ejemplo una matriz A de $n$ filas y $m$ columnas podemos denotarla como $A_{n\\times m}$ ,  es decir: \n",
        "\n",
        "$$ \\begin{equation} A_{n\\times m} =\n",
        "\\begin{pmatrix}\n",
        "a_{11} & a_{21} & \\cdots & a_{1m}\\\\\n",
        "a_{21} & a_{22} & \\cdots & a_{2m}\\\\\n",
        "\\vdots & \\vdots & \\ddots & \\vdots\\\\\n",
        "a_{n1} & a_{n2} & \\cdots & a_{nm}\n",
        "\\end{pmatrix}\n",
        "\\end{equation} $$\n",
        "\n",
        "\n",
        "A continuación se presentará un ejemplo en el que identificaremos la dimensión de la matriz, asi como sus elementos.\n",
        "\n",
        "* Ejemplo:"
      ],
      "metadata": {
        "id": "SUwaUXewkmhd"
      }
    },
    {
      "cell_type": "code",
      "source": [
        "import numpy as np\n",
        "#La matriz que daremos será la que se muestra en el texto siguiente\n",
        "\n",
        "#Imprimimos titulo de la matriz\n",
        "print(\"Matriz A de dimensión 2x3, :\")\n",
        "\n",
        "#Definimos la matriz como un arreglo\n",
        "A= np.array([[11,10,18],[17,18,1]])\n",
        "\n",
        "#Imprimimos la matriz que definimos \n",
        "print(A)"
      ],
      "metadata": {
        "colab": {
          "base_uri": "https://localhost:8080/"
        },
        "id": "CrrIp4y4li7I",
        "outputId": "3b204008-0bb4-429b-d686-dcd6956c7d4c"
      },
      "execution_count": null,
      "outputs": [
        {
          "output_type": "stream",
          "name": "stdout",
          "text": [
            "Matriz A de dimensión 2x3, :\n",
            "[[11 10 18]\n",
            " [17 18  1]]\n"
          ]
        }
      ]
    },
    {
      "cell_type": "code",
      "source": [
        "#Obtendremos el elemento a11\n",
        "a11= A[0][0]\n",
        "print(\"El elemento a11 es:\")\n",
        "print(a11)"
      ],
      "metadata": {
        "colab": {
          "base_uri": "https://localhost:8080/"
        },
        "id": "pC9gtszxmX8b",
        "outputId": "573e392c-4b82-4306-8768-2ef6eb54a57d"
      },
      "execution_count": null,
      "outputs": [
        {
          "output_type": "stream",
          "name": "stdout",
          "text": [
            "El elemento a11 es:\n",
            "11\n"
          ]
        }
      ]
    },
    {
      "cell_type": "markdown",
      "source": [
        "Es decir, tenemos que:\n",
        "* $a_{11}$= 11\n",
        "* $a_{22}$= 18"
      ],
      "metadata": {
        "id": "QzPEwfXWmd5h"
      }
    },
    {
      "cell_type": "markdown",
      "source": [
        "### ***Clases de matrices***\n",
        "\n",
        "* **Matriz nula o matriz cero**: es aquella cuyos elementos son todos cero.\n",
        "\n",
        "\\begin{bmatrix}\n",
        "0 & 0 \\\\\n",
        "0 & 0 \n",
        "\\end{bmatrix}\n",
        "\n",
        "\n",
        "* **Matriz identidad**: es aquella que cumple la propiedad de ser el elemento neutro del producto de matrices, es de $n \\times n$ y tiene como elementos el 1 en la diagonal (los elementos que forman parte de la diagonal son  $a_{11}$, $a_{22}$, $a_{33}$,...,$a_{nn}$) y cero en aquellos elementos que no pertenecen a la diagonal.\n",
        "\n",
        "\\begin{bmatrix}\n",
        "1 & 0 & 0\\\\\n",
        "0 & 1 & 0\\\\\n",
        "0 & 0 & 1\n",
        "\\end{bmatrix}\n",
        "\n",
        "\n",
        "* **Matriz diagonal**:  Una matriz se denomina diagonal si todos los elementos que no se encuentran sobre la diagonal son cero.\n",
        "\n",
        "\\begin{bmatrix}\n",
        "0 & 0 & 0\\\\\n",
        "0 & 2 & 0\\\\\n",
        "0 & 0 & 1\n",
        "\\end{bmatrix}\n",
        "\n",
        "\n",
        "* **Matriz triangular superior**:  todas sus componentes abajo de la diagonal son cero y los que estan en la diagonal y por encima de esta son casi o todos distintos de cero.\n",
        "\n",
        "\\begin{bmatrix}\n",
        "1 & -1 & 0\\\\\n",
        "0 & 2 & -2\\\\\n",
        "0 & 0 & 3\n",
        "\\end{bmatrix}\n",
        "\n",
        "* **Matriz triangular inferior**:  todas sus componentes arriba de la diagonal son cero y los que estan en la diagonal y por encima de esta son casi o todos distintos de cero.\n",
        "\n",
        "\\begin{bmatrix}\n",
        "-1 & 0 & 0\\\\\n",
        "1 & 2 & 0\\\\\n",
        "0 & -3 & 1\n",
        "\\end{bmatrix}\n",
        "\n",
        "* **Matriz simetrica**:matriz de orden n con el mismo número de filas y columnas donde su matriz traspuesta es igual a la matriz original.\n",
        "\n",
        "$A \\times At$ =\n",
        "\\begin{bmatrix}\n",
        "1 & 2 \\\\\n",
        "2 & 7 \n",
        "\\end{bmatrix}\n",
        "\n",
        "* **Matriz antisimetrica**:matriz cuadrada A cuya traspuesta es igual a su opuesta, es decir vale la relación AT = -A. Una matriz de $m \\times n$  elementos (m = filas, n = columnas) : para todo i.\n",
        "\n",
        "\\begin{bmatrix}\n",
        "1 & 3 & 7\\\\\n",
        "-3 & -1 & 6\\\\\n",
        "-5 & -6 & 2\n",
        "\\end{bmatrix}"
      ],
      "metadata": {
        "id": "dfakFXG1m6Fs"
      }
    },
    {
      "cell_type": "markdown",
      "source": [
        "### ***Operaciones elementales de fila***\n",
        "\n",
        "Se enfoca nestra atención a una matriz A mxn\n",
        "\n",
        "Multiplicación de un escalar por una fíla\n",
        "\n",
        "Reemplazar la enésima fila de A por la fila n + c veces la fila S\n",
        "s≠r\n",
        "\n",
        "Antercambio de filas\n",
        "\n",
        "$Ejemplo:$\n",
        "Utilizando operaciones elementales de las filas transformar la matriz A en una matriz triangular superior\n",
        "\n",
        "\n",
        "\n",
        "\\begin{equation} A =\n",
        "\\begin{bmatrix}\n",
        "4 & 2 & 0\\\\\n",
        "1 & 3 & 2\\\\\n",
        "-1 & 3 & 10\n",
        "\\end{bmatrix}\n",
        "\\end{equation}\n",
        "\n",
        "\n",
        "Solución:\n",
        "\n",
        "Cambiemos de lugar la primera y la segunda fila\n",
        "\n",
        "\n",
        "\\begin{equation} A =\n",
        "\\begin{bmatrix}\n",
        "4 & 2 & 0\\\\\n",
        "1 & 3 & 2\\\\\n",
        "-1 & 3 & 10\n",
        "\\end{bmatrix}≃\n",
        "\\begin{bmatrix}\n",
        "1 & 3 & 2\\\\\n",
        "4 & 2 & 0\\\\\n",
        "-1 & 3 & 10\n",
        "\\end{bmatrix}\n",
        "\\end{equation}\n",
        "\n",
        "\n",
        "a la segunda fila sumemos la primera multiplicada por -4; a la tercera fila sumemos la primera\n",
        "\n",
        "\\begin{equation}\n",
        "\\begin{bmatrix}\n",
        "1 & 3 & 2\\\\\n",
        "4+(-4).1 & 2+(-4).3 & 0+(-4).2\\\\\n",
        "-1+1 & 3+3 & 10+2\n",
        "\\end{bmatrix}≃\n",
        "\\begin{bmatrix}\n",
        "1 & 3 & 2\\\\\n",
        "0 & -10 & -8\\\\\n",
        "0 & 6 & 12\n",
        "\\end{bmatrix}\n",
        "\\end{equation}\n",
        "\n",
        "dividamos la segunda fila por -2, la tercera fila la dividamos por 6\n",
        "\n",
        "\n",
        "\n",
        "\\begin{equation}\n",
        "\\begin{bmatrix}\n",
        "1 & 3 & 2\\\\\n",
        "0 & -10/(-2) & -8/(-2)\\\\\n",
        "0 & 6/6 & 10/6\n",
        "\\end{bmatrix}≃\n",
        "\\begin{bmatrix}\n",
        "1 & 3 & 2\\\\\n",
        "0 & 5 & 4\\\\\n",
        "0 & 1 & 2\n",
        "\\end{bmatrix}\n",
        "\\end{equation}\n",
        "\n",
        "\n",
        "cambiemos de lugar la segunda y la tercera fila\n",
        "\n",
        "\\begin{equation}\n",
        "\\begin{bmatrix}\n",
        "1 & 3 & 2\\\\\n",
        "0 & 1 & 2\\\\\n",
        "0 & 5 & 4\n",
        "\\end{bmatrix}\n",
        "\\end{equation}\n",
        "\n",
        "\n",
        "sumemos la tercera fila a la segunda multiplicada por -5\n",
        "\n",
        "\\begin{equation}\n",
        "\\begin{bmatrix}\n",
        "1 & 3 & 2\\\\\n",
        "0 & 1 & 2\\\\\n",
        "0 & 5+(-5).1& 4+(-5).2\n",
        "\\end{bmatrix}≃\n",
        "\\begin{bmatrix}\n",
        "1 & 3 & 2\\\\\n",
        "0 & 1 & 2\\\\\n",
        "0 & 0 & -6\n",
        "\\end{bmatrix}\n",
        "\\end{equation}\n",
        "\n"
      ],
      "metadata": {
        "id": "Y67HlciQsT6h"
      }
    },
    {
      "cell_type": "code",
      "source": [
        "import numpy as np\n",
        "a = np.array ([1,2,3]) #creando un vector a\n",
        "b = np.array ([4,5,6]) #creando un vector b\n",
        "print(a)"
      ],
      "metadata": {
        "colab": {
          "base_uri": "https://localhost:8080/"
        },
        "id": "9dZEx-DkIA9b",
        "outputId": "52047376-2cbe-4097-cf4b-7621e8b1e41a"
      },
      "execution_count": null,
      "outputs": [
        {
          "output_type": "stream",
          "name": "stdout",
          "text": [
            "[1 2 3]\n"
          ]
        }
      ]
    },
    {
      "cell_type": "code",
      "source": [
        "# Multiplicacion escalar entre a y b\n",
        "g = np.dot(a,b)\n",
        "print(g)"
      ],
      "metadata": {
        "colab": {
          "base_uri": "https://localhost:8080/"
        },
        "id": "EFKnwz0cIQ-T",
        "outputId": "ff663da3-32d3-41ec-aefc-689be4e52b27"
      },
      "execution_count": null,
      "outputs": [
        {
          "output_type": "stream",
          "name": "stdout",
          "text": [
            "32\n"
          ]
        }
      ]
    },
    {
      "cell_type": "code",
      "source": [
        "A = np.array([[1,3,4],[2,8,6],[5,1,35]])\n",
        "C = np.array([[-11,2,2],[-4,0,1],[6,-1,-1]])\n",
        "\n",
        "inv_AC = np.linalg.inv(np.dot(A,C))\n",
        "\n",
        "print (inv_AC)\n"
      ],
      "metadata": {
        "colab": {
          "base_uri": "https://localhost:8080/"
        },
        "id": "kpRNdOubIec8",
        "outputId": "c2618d60-a1f7-4bd0-e36a-9cecdb5d92f1"
      },
      "execution_count": null,
      "outputs": [
        {
          "output_type": "stream",
          "name": "stdout",
          "text": [
            "[[  99.   -36.5   -5. ]\n",
            " [ 237.   -87.5  -12. ]\n",
            " [ 376.  -138.5  -19. ]]\n"
          ]
        }
      ]
    },
    {
      "cell_type": "markdown",
      "source": [
        "### ***Intercambio de filas***\n",
        "temp = matrix[0]\n",
        "matrix[0] = matrix[1]\n",
        "matrix[1] = temp\n",
        "\n",
        "print(\"Matriz final:\")\n",
        "print(matrix)\n",
        "\n",
        "Matriz original:\n",
        "[[1, 2, 3], [4, 5, 6], [7, 8, 9]]\n",
        "Matriz final:\n",
        "[[4, 5, 6], [1, 2, 3], [7, 8, 9]]\n",
        "\n",
        "$Ejemplo :$\n",
        "\n",
        "1 $$(A+B)^2$$\n",
        "\n",
        " \n",
        "\n",
        "Calculamos $A+B$, para esto sumamos los elementos que se encuentran en la misma posición de ambas matrices:\n",
        "\n",
        " \n",
        "\n",
        "\\begin{array}{rcl} A + B & = & \\begin{pmatrix} 0 & -1 & 2\\\\ -1 & 1 & 1\\\\ 3 & 0 & 4 \\end{pmatrix}+\\begin{pmatrix} 4 & -1 & 2\\\\ 3 & 0 & 2\\\\ 0 & -1 & 4 \\end{pmatrix} \\\\\\\\ & = &  \\begin{pmatrix} 4 & -2 & 4\\\\ 2 & 1 & 3\\\\ 3 & -1 & 8 \\end{pmatrix} \\end{array}\n",
        "\n",
        " \n",
        "\n",
        "El resultado anterior lo elevamos al cuadrado\n",
        "\n",
        " \n",
        "\n",
        "\\begin{array}{rcl} (A + B)^2 & = & \\begin{pmatrix} 4 & -2 & 4\\\\ 2 & 1 & 3\\\\ 3 & -1 & 8 \\end{pmatrix} \\cdot \\begin{pmatrix} 4 & -2 & 4\\\\ 2 & 1 & 3\\\\ 3 & -1 & 8 \\end{pmatrix} \\\\\\\\ & = & \\begin{pmatrix} 24 & -14 & 42\\\\ 19 & -6 & 35 \\\\ 34 & -15 & 73 \\end{pmatrix} \\end{array}\n",
        "\n",
        " \n",
        "\n",
        "2 $(A-B)^2$\n",
        "\n",
        " \n",
        "\n",
        "Calculamos $A - B$\n",
        "\n",
        " \n",
        "\n",
        "\\begin{array}{rcl} A - B & = & \\begin{pmatrix} 0 & -1 & 2\\\\ -1 & 1 & 1\\\\ 3 & 0 & 4 \\end{pmatrix} - \\begin{pmatrix} 4 & -1 & 2\\\\ 3 & 0 & 2\\\\ 0 & -1 & 4 \\end{pmatrix} \\\\\\\\ & = & \\begin{pmatrix} -4 & 0 & 0\\\\ -4 & 1 & -1\\\\ 3 & 1 & 0 \\end{pmatrix} \\end{array}\n",
        "\n",
        " \n",
        "\n",
        "El resultado anterior lo elevamos al cuadrado\n",
        "\n",
        " \n",
        "\n",
        "\\begin{array}{rcl} (A - B)^2 & = & \\begin{pmatrix} -4 & 0 & 0\\\\ -4 & 1 & -1\\\\ 3 & 1 & 0 \\end{pmatrix} \\cdot \\begin{pmatrix} -4 & 0 & 0\\\\ -4 & 1 & -1\\\\ 3 & 1 & 0 \\end{pmatrix} \\\\\\\\ & = & \\begin{pmatrix} 16 & 0 & 0\\\\ 9 & 0 & -1 \\\\ -16 & 1 & -1 \\end{pmatrix} \\end{array}\n",
        "\n",
        " \n",
        "\n",
        "3 $B^3$\n",
        "\n",
        " \n",
        "\n",
        "Primero se calcula $B^2$ y luego se multiplica por $B$\n",
        "\n",
        " \n",
        "\n",
        "$$\\begin{array}{rcl} B^3 & = & \\left ( \\begin{array}{rrr} 4 & -1 & 2\\\\ 3 & 0 & 2\\\\ 0 & -1 & 4 \\end{array} \\right ) \\cdot \\left ( \\begin{array}{rrr} 4 & -1 & 2\\\\ 3 & 0 & 2\\\\ 0 & -1 & 4 \\end{array} \\right ) \\cdot \\left ( \\begin{array}{rrr} 4 & -1 & 2\\\\ 3 & 0 & 2\\\\ 0 & -1 & 4 \\end{array} \\right ) \\\\\\\\ & = & \\left ( \\begin{array}{rrr} 13 & -6 & 14 \\\\ 12 & -5 & 14 \\\\ -3 & -4 & 14 \\end{array} \\right ) \\cdot \\left ( \\begin{array}{rrr} 4 & -1 & 2\\\\ 3 & 0 & 2\\\\ 0 & -1 & 4 \\end{array} \\right ) \\\\\\\\ & = & \\left ( \\begin{array}{rrr} 34 & -27 & 70 \\\\ 33 & -26 & 70 \\\\ -24 & -11 & 42 \\end{array} \\right ) \\end{array}$$\n",
        "\n",
        " \n",
        "\n",
        "4 $$A \\cdot B^t \\cdot C$$\n",
        "\n",
        " \n",
        "\n",
        "Calculamos $B^t$\n",
        "\n",
        " \n",
        "\n",
        "$$B^t=\\begin{pmatrix} 4 & 3 & 0\\\\ -1 & 0 & -1\\\\ 2 & 2 & 4 \\end{pmatrix}$$\n",
        "\n",
        " \n",
        "\n",
        "$$\\begin{array}{rcl} A \\cdot B^t \\cdot C & = & \\left ( \\begin{array}{rrr} 0 & -1 & 2\\\\ -1 & 1 & 1\\\\ 3 & 0 & 4 \\end{array} \\right ) \\cdot \\left ( \\begin{array}{rrr} 4 & 3 & 0\\\\ -1 & 0 & -1\\\\ 2 & 2 & 4 \\end{array} \\right ) \\cdot \\begin{pmatrix} 0 & 1 & -1 \\\\ -2 & 0 & 3\\\\ 4 & 2 & 1 \\end{pmatrix} \\\\\\\\  & = & \\left ( \\begin{array}{rrr} 5 & 4 & 9 \\\\ -3 & -1 & 3 \\\\ 20 & 17 & 16 \\end{array} \\right ) \\cdot \\begin{pmatrix} 0 & 1 & -1 \\\\ -2 & 0 & 3\\\\ 4 & 2 & 1 \\end{pmatrix} \\\\\\\\  & = & \\left ( \\begin{array}{rrr} 28 & 23 & 16 \\\\ 14 & 3 & 3 \\\\ 30 & 52 & 47 \\end{array} \\right )  \\end{array}$$\n",
        "\n",
        "\n",
        "\n"
      ],
      "metadata": {
        "id": "3DS0GVThH-jb"
      }
    },
    {
      "cell_type": "code",
      "source": [
        "import numpy as np\n",
        "A = np.array([[1,2,-3],[0,1,2],[-1,2,-3]]) \n",
        "print (A)\n",
        "i = 0  # fila 1\n",
        "j = 2  # fila 3\n",
        "E = np.identity(3)  # matriz de identidad de 3x3\n",
        "E[i, i] = 0\n",
        "E[j, j] = 0\n",
        "E[i, j] = 1\n",
        "E[j, i] = 1\n",
        "\n",
        "# Calcular la matriz resultante\n",
        "B = np.dot(E, A)\n",
        "\n",
        "print(\"Matriz original:\\n\", A)\n",
        "print(\"Matriz elemental de intercambio de filas:\\n\", E)\n",
        "print(\"Matriz resultante:\\n\", B)"
      ],
      "metadata": {
        "colab": {
          "base_uri": "https://localhost:8080/"
        },
        "id": "wSPImvJeIjAa",
        "outputId": "2c0dbcb5-0caf-48bc-c69f-890bda5a8409"
      },
      "execution_count": null,
      "outputs": [
        {
          "output_type": "stream",
          "name": "stdout",
          "text": [
            "[[ 1  2 -3]\n",
            " [ 0  1  2]\n",
            " [-1  2 -3]]\n",
            "Matriz original:\n",
            " [[ 1  2 -3]\n",
            " [ 0  1  2]\n",
            " [-1  2 -3]]\n",
            "Matriz elemental de intercambio de filas:\n",
            " [[0. 0. 1.]\n",
            " [0. 1. 0.]\n",
            " [1. 0. 0.]]\n",
            "Matriz resultante:\n",
            " [[-1.  2. -3.]\n",
            " [ 0.  1.  2.]\n",
            " [ 1.  2. -3.]]\n"
          ]
        }
      ]
    },
    {
      "cell_type": "markdown",
      "source": [
        "###***Nota***\n",
        "Def. Sea A y B son matrices $m \\times n$ = sobre los Reales. Se dice\n",
        "que la matriz B es equivalente por filas a la matriz A, si B\n",
        "se obtiene de una sucesión finita de operaciones\n",
        "elementales de filas de la matriz A"
      ],
      "metadata": {
        "id": "xGId19jLJJ1J"
      }
    },
    {
      "cell_type": "markdown",
      "source": [
        "###***Matriz Escalonada***\n",
        "Si todos los renglones cero están en la parte inferior de la matriz. El elemento delantero de cada renglón diferente de cero está a la derecha del elemento delantero diferente de cero del renglón anterior.\n",
        "\n",
        "\\begin{bmatrix}\n",
        "1 & 2 & 3 & 6\\\\\n",
        "0 & 0 & 7 & 5\\\\\n",
        "0 & 0 & 0 & 4\\\\\n",
        "0 & 0 & 0 & 0\\\\\n",
        "\\end{bmatrix}"
      ],
      "metadata": {
        "id": "oWMjUVl5J5e5"
      }
    },
    {
      "cell_type": "code",
      "source": [
        "def matriz_escalonada(filas, columnas):\n",
        "    matriz = [[0] * columnas for _ in range(filas)]\n",
        "\n",
        "    # Pedir al usuario los elementos de la matriz\n",
        "    for i in range(filas):\n",
        "        for j in range(columnas):\n",
        "            matriz[i][j] = int(input(f\"Ingrese el elemento [{i}][{j}]: \"))\n",
        "\n",
        "    # Convertir la matriz en una matriz escalonada\n",
        "    fila_actual = 0\n",
        "    for columna in range(columnas):\n",
        "        # Buscar un elemento no nulo en la columna actual\n",
        "        fila_pivote = None\n",
        "        for fila in range(fila_actual, filas):\n",
        "            if matriz[fila][columna] != 0:\n",
        "                fila_pivote = fila\n",
        "                break\n",
        "\n",
        "        # Si no se encontró un elemento no nulo, continuar con la siguiente columna\n",
        "        if fila_pivote is None:\n",
        "            continue\n",
        "\n",
        "        # Intercambiar filas si la fila pivote no es la actual\n",
        "        if fila_pivote != fila_actual:\n",
        "            matriz[fila_pivote], matriz[fila_actual] = matriz[fila_actual], matriz[fila_pivote]\n",
        "\n",
        "        # Hacer ceros los elementos debajo del pivote en la columna actual\n",
        "        for fila in range(fila_actual + 1, filas):\n",
        "            factor = matriz[fila][columna] / matriz[fila_actual][columna]\n",
        "            for k in range(columna, columnas):\n",
        "                matriz[fila][k] -= factor * matriz[fila_actual][k]\n",
        "\n",
        "        fila_actual += 1\n",
        "\n",
        "    return matriz\n",
        "\n",
        "# Ejemplo de uso\n",
        "filas = int(input(\"Ingrese el número de filas: \"))\n",
        "columnas = int(input(\"Ingrese el número de columnas: \"))\n",
        "\n",
        "matriz_resultante = matriz_escalonada(filas, columnas)\n",
        "print(\"Matriz escalonada:\")\n",
        "for fila in matriz_resultante:\n",
        "    print(fila)\n"
      ],
      "metadata": {
        "colab": {
          "base_uri": "https://localhost:8080/"
        },
        "id": "-huHrR5mejhY",
        "outputId": "d7ec4799-6f6b-4c80-9eba-8d346e467237"
      },
      "execution_count": null,
      "outputs": [
        {
          "output_type": "stream",
          "name": "stdout",
          "text": [
            "Ingrese el número de filas: 2\n",
            "Ingrese el número de columnas: 3\n",
            "Ingrese el elemento [0][0]: 2\n",
            "Ingrese el elemento [0][1]: 2\n",
            "Ingrese el elemento [0][2]: 4\n",
            "Ingrese el elemento [1][0]: 5\n",
            "Ingrese el elemento [1][1]: 3\n",
            "Ingrese el elemento [1][2]: 2\n",
            "Matriz escalonada:\n",
            "[2, 2, 4]\n",
            "[0.0, -2.0, -8.0]\n"
          ]
        }
      ]
    },
    {
      "cell_type": "markdown",
      "source": [
        "###***Operaciones con Matrices***\n",
        "### **Suma  y Resta de matrices** \n",
        "\n",
        "Para llevar a cabo estas operaciones es importante verificar que las matrices con las que se trabajará tengan el mismo orden, también es importante saber que se obtendrá como resultado una matriz con exactamente ese orden al realizar las operaciones.\n",
        "\n",
        "La suma o resta se lleva a cabo elemento por elemento, por ejemplo, sean A y B dos matrices que deseamos sumar, entonces se obtendrá una nueva matriz C cuyos elementos serán: $c_{ij}$=$a_{ij}+b_{ij}$, para hacer la resta solo le aplica la operación correspondiente.\n",
        "\n",
        "De manera gráfica, podemos verlo de la siguiente manera para la suma:\n",
        "\n",
        "$$ \\begin{equation} A_{n\\times m} = \n",
        "\\begin{pmatrix}\n",
        "a_{11} & a_{12} & \\cdots & a_{1m}\\\\\n",
        "a_{21} & a_{22} & \\cdots & a_{2m}\\\\\n",
        "\\vdots & \\vdots & \\ddots & \\vdots\\\\\n",
        "a_{n1} & a_{n2} & \\cdots & a_{nm}\n",
        "\\end{pmatrix}\n",
        "\\end{equation} $$\n",
        "\n",
        "\n",
        "$$ \\begin{equation} B_{n\\times m} = \n",
        "\\begin{pmatrix}\n",
        "b_{11} & b_{12} & \\cdots & b_{1m}\\\\\n",
        "b_{21} & b_{22} & \\cdots & b_{2m}\\\\\n",
        "\\vdots & \\vdots & \\ddots & \\vdots\\\\\n",
        "b_{n1} & b_{n2} & \\cdots & b_{nm}\n",
        "\\end{pmatrix}\n",
        "\\end{equation}$$\n",
        "\n",
        "\n",
        "$$ \\begin{equation} C=A+B =\n",
        "\\begin{pmatrix}\n",
        "a_{11}+b_{11} & a_{12}+b_{12} & \\cdots & a_{1m}+b_{1m}\\\\\n",
        "a_{21}+b_{21} & a_{22}+b_{22} & \\cdots & a_{2m}+ b_{2m}\\\\\n",
        "\\vdots & \\vdots & \\ddots & \\vdots\\\\\n",
        "a_{n1}+b_{n1} & a_{n2}+b_{n2} & \\cdots & a_{nm}+b_{nm}\n",
        "\\end{pmatrix}\n",
        "\\end{equation}$$\n",
        "\n",
        "\n",
        "\n"
      ],
      "metadata": {
        "id": "DwXf25D6gmop"
      }
    },
    {
      "cell_type": "code",
      "source": [
        "#Ejemplo de suma de matrices \n",
        "print(\"Recuerde que las matrices a sumar deben tener el mismo número de filas entre ellas y el mismo número de renglones\")\n",
        "\n",
        "#Pedimos que nos de el número de filas y columnas que tienen las matrices\n",
        "filas = int(input (\"Indique el número de filas: \"))\n",
        "columnas = int(input (\"Indique el número de columnas: \"))\n",
        "\n",
        "#Creamos las matrices en las que se guardarán los valores que el usuario proporcione y los de la suma\n",
        "matriz1 = np.zeros((filas,columnas))\n",
        "matriz2 = np.zeros((filas,columnas))\n",
        "\n",
        "#Pedimos que ingrese la primer matriz elemento por elemento y vamos llenando\n",
        "print ('Ingrese la primer matriz')\n",
        "\n",
        "for i in range(filas):\n",
        "\t\tfor j in range(columnas):\n",
        "\t\t\tmatriz1[i][j] = float(input('Elemento (%d,%d): ' % (i, j)))\n",
        "\t \n",
        "print( \"su primer matriz es:\")\n",
        "print(matriz1)\n",
        "\n",
        "#Le pedimos que ingrese la segunda matriz elemento por elemento y vamos llenando           \n",
        "print ('Ingrese la segunda matriz')\n",
        "for i in range(filas):\n",
        "\tfor j in range(columnas):\n",
        "\t\t\tmatriz2[i][j] = float(input('Elemento (%d,%d): ' % (i, j)))\n",
        "\t \n",
        "print(\"su segunda matriz es:\")\n",
        "print( matriz2)\n",
        "\n",
        "#Realizamos la suma de las matrices que nos proporciono y la imprimimos \n",
        "matriz3= matriz1+matriz2\n",
        "print ('La suma de las matrices es:')\n",
        "print (matriz3)"
      ],
      "metadata": {
        "colab": {
          "base_uri": "https://localhost:8080/"
        },
        "id": "7928fIxrgskC",
        "outputId": "b1c01b91-a5af-433e-fb4a-8dffaa5a19c6"
      },
      "execution_count": null,
      "outputs": [
        {
          "output_type": "stream",
          "name": "stdout",
          "text": [
            "Recuerde que las matrices a sumar deben tener el mismo número de filas entre ellas y el mismo número de renglones\n",
            "Indique el número de filas: 2\n",
            "Indique el número de columnas: 3\n",
            "Ingrese la primer matriz\n",
            "Elemento (0,0): 4\n",
            "Elemento (0,1): 5\n",
            "Elemento (0,2): 6\n",
            "Elemento (1,0): 7\n",
            "Elemento (1,1): 8\n",
            "Elemento (1,2): 2\n",
            "su primer matriz es:\n",
            "[[4. 5. 6.]\n",
            " [7. 8. 2.]]\n",
            "Ingrese la segunda matriz\n",
            "Elemento (0,0): 3\n",
            "Elemento (0,1): 4\n",
            "Elemento (0,2): 5\n",
            "Elemento (1,0): 7\n",
            "Elemento (1,1): 7\n",
            "Elemento (1,2): 8\n",
            "su segunda matriz es:\n",
            "[[3. 4. 5.]\n",
            " [7. 7. 8.]]\n",
            "La suma de las matrices es:\n",
            "[[ 7.  9. 11.]\n",
            " [14. 15. 10.]]\n"
          ]
        }
      ]
    },
    {
      "cell_type": "code",
      "source": [
        "def resta_matrices(matriz1, matriz2):\n",
        "    filas = len(matriz1)\n",
        "    columnas = len(matriz1[0])\n",
        "    resultado = [[0] * columnas for _ in range(filas)]\n",
        "\n",
        "    for i in range(filas):\n",
        "        for j in range(columnas):\n",
        "            resultado[i][j] = matriz1[i][j] - matriz2[i][j]\n",
        "\n",
        "    return resultado\n",
        "\n",
        "\n",
        "# Ejemplo de uso\n",
        "matriz1 = [[1, 2, 3],\n",
        "           [4, 5, 6],\n",
        "           [7, 8, 9]]\n",
        "\n",
        "matriz2 = [[9, 8, 7],\n",
        "           [6, 5, 4],\n",
        "           [3, 2, 1]]\n",
        "\n",
        "resta = resta_matrices(matriz1, matriz2)\n",
        "\n",
        "print(\"Resta de matrices:\")\n",
        "for fila in resta:\n",
        "    print(fila)\n"
      ],
      "metadata": {
        "colab": {
          "base_uri": "https://localhost:8080/"
        },
        "id": "t8lX-G4xh6NJ",
        "outputId": "4bfc635d-3399-42ea-957f-aa62733a0255"
      },
      "execution_count": null,
      "outputs": [
        {
          "output_type": "stream",
          "name": "stdout",
          "text": [
            "Resta de matrices:\n",
            "[-8, -6, -4]\n",
            "[-2, 0, 2]\n",
            "[4, 6, 8]\n"
          ]
        }
      ]
    },
    {
      "cell_type": "markdown",
      "source": [
        "### **Escalar por una matriz**\n",
        "\n",
        "En este caso lo que se hace es multiplicar un número escalar por la matriz, es decir $\\tau$*$A_{n\\times m}$ y el resultado será una matriz del mismo orden pero con cada uno de sus elementos múltiplicado por el escalar,es decir: \n",
        "\n",
        "\n",
        "  $$\\begin{equation} \\tau*A_{n\\times m}=\n",
        "\\begin{pmatrix}\n",
        "\\tau*a_{11} & \\tau*a_{12} & \\cdots & \\tau*a_{1m}\\\\\n",
        "\\tau*a_{21} & \\tau*a_{12} & \\cdots & \\tau*a_{2m}\\\\\n",
        "\\vdots & \\vdots & \\ddots & \\vdots\\\\\n",
        "\\tau*a_{n1} & \\tau*a_{n2} & \\cdots & \\tau*a_{nm}\n",
        "\\end{pmatrix}\n",
        "\\end{equation}$$\n",
        "\n",
        "Cabe mencionar que esta operación es distributiva respecto a la suma de escalares y a la suma de matrices, además es conmutativa y asociativa respecto al producto punto de escalares.\n",
        "Ejemplo:"
      ],
      "metadata": {
        "id": "x6L9Y3jQiCTV"
      }
    },
    {
      "cell_type": "code",
      "source": [
        "def multiplicacion_escalar(matriz, escalar):\n",
        "    filas = len(matriz)\n",
        "    columnas = len(matriz[0])\n",
        "    resultado = [[0] * columnas for _ in range(filas)]\n",
        "\n",
        "    for i in range(filas):\n",
        "        for j in range(columnas):\n",
        "            resultado[i][j] = matriz[i][j] * escalar\n",
        "\n",
        "    return resultado\n",
        "\n",
        "\n",
        "# Ejemplo de uso\n",
        "matriz = [[1, 2, 3],\n",
        "          [4, 5, 6],\n",
        "          [7, 8, 9]]\n",
        "\n",
        "escalar = 2\n",
        "\n",
        "resultado = multiplicacion_escalar(matriz, escalar)\n",
        "\n",
        "print(\"Resultado de la multiplicación escalar:\")\n",
        "for fila in resultado:\n",
        "    print(fila)\n"
      ],
      "metadata": {
        "colab": {
          "base_uri": "https://localhost:8080/"
        },
        "id": "1Ipw3X__id8O",
        "outputId": "b3258d14-29d2-4fdf-957e-4598d2cd3904"
      },
      "execution_count": null,
      "outputs": [
        {
          "output_type": "stream",
          "name": "stdout",
          "text": [
            "Resultado de la multiplicación escalar:\n",
            "[2, 4, 6]\n",
            "[8, 10, 12]\n",
            "[14, 16, 18]\n"
          ]
        }
      ]
    },
    {
      "cell_type": "markdown",
      "source": [
        "### **Producto de Matrices**\n",
        "\n",
        "Si tenemos una matriz $A_{n\\times m}$ y queremos obtener el producto de esta matriz con una $B_{m\\times l}$, lo primero que se debe verificar es que el número de columnas de la matriz $A$ coincida con el número de filas de la matriz $B$, el resultado de esto nos dara una nueva matriz $C_{n\\times l}$.\n",
        "\n",
        "Los elementos que conformarán esta nueva matriz serán el resultado de sumar los productos de los elementos de la fila $i$ por la columna $j$, es decir:\n",
        "\n",
        "$$\\begin{equation}\n",
        "  C_{ij} = \\sum_{k} (a_{ik}*b_{k,j})\n",
        "\\end{equation}$$\n",
        "\n",
        "por ejemplo si tenemos las siguientes matrices:\n",
        "\n",
        "\n",
        "$$ \\begin{equation} A_{2\\times 3}=\n",
        "\\begin{pmatrix}\n",
        "2 & 3 & 1 \\\\\n",
        "0 & -1 & -2 \n",
        "\\end{pmatrix}\n",
        "\\end{equation}$$\n",
        "\n",
        "\n",
        "$$ \\begin{equation} B_{3 \\times 2}=\n",
        "\\begin{pmatrix}\n",
        " 1 & 0 \\\\\n",
        "-1 & 2  \\\\\n",
        "-2 & 3\n",
        "\\end{pmatrix}\n",
        "\\end{equation}$$\n",
        "\n",
        "\n",
        "$$\\begin{equation} C_{2 \\times 2}=\n",
        "\\begin{pmatrix}\n",
        " (2*1)+(-1*3)+(-2*1)   & (0*2)+(2*3) +(3*1) \\\\\n",
        " (1*0)+(-1*-1)+(-2*-2) & (0*0)+(2*-1)+(3*-2)\n",
        "\\end{pmatrix}\n",
        "\\end{equation}$$\n",
        "\n",
        "\n",
        "\n",
        "$$\\begin{equation} =\n",
        "\\begin{pmatrix}\n",
        " -3 & 9 \\\\\n",
        "  5 & -8\n",
        " \\end{pmatrix}\n",
        " \\end{equation}$$\n",
        " \n",
        " \n",
        " Esta operación cumple con la asociatividad, es distributiva respecto a la suma de matrices, no siempre es conmutativo, y  si $AB=AC$  no necesariamente se cumple que $B=C$."
      ],
      "metadata": {
        "id": "xLYV91HIjIsn"
      }
    },
    {
      "cell_type": "code",
      "source": [
        "def producto_matrices(matriz1, matriz2):\n",
        "    filas_matriz1 = len(matriz1)\n",
        "    columnas_matriz1 = len(matriz1[0])\n",
        "    filas_matriz2 = len(matriz2)\n",
        "    columnas_matriz2 = len(matriz2[0])\n",
        "\n",
        "    # Verificar si las matrices pueden ser multiplicadas\n",
        "    if columnas_matriz1 != filas_matriz2:\n",
        "        raise ValueError(\"Las dimensiones de las matrices no son compatibles para la multiplicación.\")\n",
        "\n",
        "    # Crear la matriz resultado\n",
        "    resultado = [[0] * columnas_matriz2 for _ in range(filas_matriz1)]\n",
        "\n",
        "    # Realizar la multiplicación de matrices\n",
        "    for i in range(filas_matriz1):\n",
        "        for j in range(columnas_matriz2):\n",
        "            for k in range(filas_matriz2):\n",
        "                resultado[i][j] += matriz1[i][k] * matriz2[k][j]\n",
        "\n",
        "    return resultado\n",
        "\n",
        "\n",
        "# Ejemplo de uso\n",
        "matriz1 = [[1, 2, 3],\n",
        "           [4, 5, 6]]\n",
        "\n",
        "matriz2 = [[7, 8],\n",
        "           [9, 10],\n",
        "           [11, 12]]\n",
        "\n",
        "resultado = producto_matrices(matriz1, matriz2)\n",
        "\n",
        "print(\"Resultado del producto de matrices:\")\n",
        "for fila in resultado:\n",
        "    print(fila)\n"
      ],
      "metadata": {
        "colab": {
          "base_uri": "https://localhost:8080/"
        },
        "id": "KKD6F7jojbq0",
        "outputId": "2b37e161-d6fd-4c27-8732-00667141ff5e"
      },
      "execution_count": null,
      "outputs": [
        {
          "output_type": "stream",
          "name": "stdout",
          "text": [
            "Resultado del producto de matrices:\n",
            "[58, 64]\n",
            "[139, 154]\n"
          ]
        }
      ]
    },
    {
      "cell_type": "markdown",
      "source": [
        "### **Matriz Inversa**\n",
        "Def. Sea An una matriz cuadrada que opera sobre los reales; si existe\n",
        "una matriz Bn cuadrada tal que \n",
        "$$AB=BA=I$$ \n",
        "A la matriz B se dice que es inversa de A y A es una matriz inversible; por\n",
        "lo que:\n",
        "$$B=A^{-1}=I$$ \n",
        "\n",
        "Entonces:\n",
        "\n",
        "$$AA^{-1}=A^{-1}A=I$$\n",
        "\n",
        "De donde I es la matriz identidad de tamaño n la cuál tiene unos en su diagonal y ceros en todas las demas entradas.\n",
        "\n",
        "Las matrices que tienen inversa son llamadas matrices invertibles o regulares.\n",
        "\n",
        "La matriz inversa debe cumplir:\n",
        " * Es única \n",
        " * $(A^{-1})^{-1}$ = $A$\n",
        " * $(A B)^{-1}$ = $B^{-1}$$A^{-1}$\n",
        " * $(\\alpha*A)^{-1}$=$\\frac{1}{\\alpha}$*$A^{-1}$   con $\\alpha$ distinto de 0\n",
        "\n",
        " Ejemplo :"
      ],
      "metadata": {
        "id": "440k6ny7jr4w"
      }
    },
    {
      "cell_type": "code",
      "source": [
        "import numpy as np\n",
        "\n",
        "def encontrar_matriz_inversa(matriz):\n",
        "    # Convertir la matriz a un arreglo NumPy\n",
        "    arr = np.array(matriz, dtype=float)\n",
        "\n",
        "    # Encontrar la matriz inversa utilizando la función de inversa de NumPy\n",
        "    matriz_inversa = np.linalg.inv(arr)\n",
        "\n",
        "    return matriz_inversa.tolist()\n",
        "\n",
        "# Ejemplo de uso\n",
        "matriz = [[1, 2],\n",
        "          [3, 4]]\n",
        "\n",
        "matriz_inversa = encontrar_matriz_inversa(matriz)\n",
        "\n",
        "print(\"Matriz inversa:\")\n",
        "for fila in matriz_inversa:\n",
        "    print(fila)\n"
      ],
      "metadata": {
        "colab": {
          "base_uri": "https://localhost:8080/"
        },
        "id": "h4utiGOnlLwB",
        "outputId": "f973bc23-00d5-4ae7-f123-15e5f87d2793"
      },
      "execution_count": null,
      "outputs": [
        {
          "output_type": "stream",
          "name": "stdout",
          "text": [
            "Matriz inversa:\n",
            "[-1.9999999999999996, 0.9999999999999998]\n",
            "[1.4999999999999998, -0.4999999999999999]\n"
          ]
        }
      ]
    },
    {
      "cell_type": "markdown",
      "source": [
        "corolario\n",
        "\n",
        "Si R=I, La matriz A es inversible\n",
        "Teorema\n",
        "Si A es inversible ->  A = R=I\n",
        "y la sucesión de operaciones elementales es $$A^{-1}$$"
      ],
      "metadata": {
        "id": "dpZCuBN7lhPv"
      }
    },
    {
      "cell_type": "markdown",
      "source": [
        "###***Definición  Determinantes***\n",
        "La función determinante de una matriz es una herramienta que nos permite clasificar los sistemas de ecuaciones lineales según sus soluciones.\n",
        "La definición de determinante no es sencilla, sin embargo existen reglas que ayudan a obtenerlo dependiendo la dimensión de la matriz, es importante saber que esto solo funciona con matrices cuadradas.\n",
        "\n",
        "\n",
        "Sea $A \\in M_{n\\times n}$ sobre $\\mathbb{R}$ el determinante de $A$ se define como sigue.\n",
        "\n",
        "$$det(A)=\\begin{cases}\n",
        "a_{0,0}*a_{1,1}-a_{0,1}*a_{1,0} & n=2\\\\\n",
        "\\sum_{i=0}^{n-1}\\left(-1\\right)^{i}*a_{0,i}*det\\left(subMatriz_{0,i}\\left(A\\right)\\right) & n\\geq2\n",
        "\\end{cases}$$\n",
        "\n",
        "Donde la función $subMatriz_{0,i}\\left(A\\right)$ elimina el renglón cero y la columna $i$ de la matriz $A$.\n",
        "\n",
        "Algo que tambien es importante mencionar es que los determinantes son de gran utilidad por ejemplo para:\n"
      ],
      "metadata": {
        "id": "ejYbYPTznWqM"
      }
    },
    {
      "cell_type": "markdown",
      "source": [
        "#### Ejemplo de 3x3\n",
        "\n",
        "$$A=\\left(\\begin{array}{ccc}\n",
        "4 & 3 & 1\\\\\n",
        "7 & 5 & -1\\\\\n",
        "4 & 9 & 5\n",
        "\\end{array}\\right)$$\n",
        "\n",
        "$det(A)=\\left(-1\\right)^{0}\\left(4\\right)\\left(det\\left(\\left(\\begin{array}{cc}\n",
        "5 & -1\\\\\n",
        "9 & 5\n",
        "\\end{array}\\right)\\right)\\right)\\left(-1\\right)^{1}\\left(3\\right)\\left(det\\left(\\left(\\begin{array}{cc}\n",
        "7 & -1\\\\\n",
        "4 & 5\n",
        "\\end{array}\\right)\\right)\\right)\\left(-1\\right)^{2}\\left(1\\right)\\left(det\\left(\\left(\\begin{array}{cc}\n",
        "7 & 5\\\\\n",
        "4 & 9\n",
        "\\end{array}\\right)\\right)\\right)=62$"
      ],
      "metadata": {
        "id": "ZHEzfQo0oGHE"
      }
    },
    {
      "cell_type": "code",
      "source": [
        "# se importan las paqueterias necesarias\n",
        "import numpy as np\n",
        "\n",
        "#Funcion auxiliar para eliminar un renglon y una columna\n",
        "def subMatriz(mat, ren, col):\n",
        "    copia = np.copy(mat)\n",
        "    copia = np.delete(copia, (ren), axis=0)\n",
        "    copia = np.delete(copia, (col), axis=1)\n",
        "    return copia\n",
        "\n",
        "# Determinante\n",
        "# devuelve el determinante de la matriz m1\n",
        "# se asume que m1 es cuadrada\n",
        "def det(m1):\n",
        "    if len(m1) == 2:\n",
        "      return m1[0][0]*m1[1][1]-(m1[0][1]*m1[1][0])\n",
        "    else:\n",
        "      determinante = 0.0\n",
        "      for i in range(len(m1[0])):\n",
        "        determinante += ((-1)**i)*(m1[0][i])*det(subMatriz(m1,0,i))\n",
        "    return determinante\n",
        "\n",
        "a = np.array([[5,2,7],[2,6,-4],[3,6,2]])\n",
        "#se muestran ambas matrices\n",
        "print(a)\n",
        "#se imprime la multiplicacion\n",
        "print(det(a))\n",
        "\n",
        "print(np.linalg.det(a))"
      ],
      "metadata": {
        "colab": {
          "base_uri": "https://localhost:8080/"
        },
        "id": "LsWkxNKboIC-",
        "outputId": "2960ecb5-2142-4878-db2c-c9455e442a06"
      },
      "execution_count": null,
      "outputs": [
        {
          "output_type": "stream",
          "name": "stdout",
          "text": [
            "[[ 5  2  7]\n",
            " [ 2  6 -4]\n",
            " [ 3  6  2]]\n",
            "106.0\n",
            "105.99999999999989\n"
          ]
        }
      ]
    },
    {
      "cell_type": "markdown",
      "source": [
        "###***Sistema de ecuaciones***\n",
        "Una solución de un sistema es una asignación de valores para las incógnitas que hace verdadera cada una de las ecuaciones. Resolver un sistema significa hallar todas las soluciones del sistema.\n"
      ],
      "metadata": {
        "id": "0FsgCv-Sor3t"
      }
    },
    {
      "cell_type": "markdown",
      "source": [
        "###***Metodo L.U***\n"
      ],
      "metadata": {
        "id": "XXYRu8jT5ipE"
      }
    },
    {
      "cell_type": "code",
      "source": [
        "import numpy as np\n",
        "from scipy.linalg import lu\n",
        "\n",
        "def factorizacion_lu(matriz):\n",
        "    # Convertir la matriz a un arreglo NumPy\n",
        "    arr = np.array(matriz, dtype=float)\n",
        "\n",
        "    # Aplicar la factorización LU utilizando la función lu de SciPy\n",
        "    P, L, U = lu(arr)\n",
        "\n",
        "    return P, L, U\n",
        "\n",
        "# Ejemplo de uso\n",
        "matriz = [[1, 2, 3],\n",
        "          [4, 5, 6],\n",
        "          [7, 8, 9]]\n",
        "\n",
        "P, L, U = factorizacion_lu(matriz)\n",
        "\n",
        "print(\"Matriz P:\")\n",
        "print(P)\n",
        "\n",
        "print(\"Matriz L:\")\n",
        "print(L)\n",
        "\n",
        "print(\"Matriz U:\")\n",
        "print(U)\n"
      ],
      "metadata": {
        "colab": {
          "base_uri": "https://localhost:8080/"
        },
        "id": "hXjhKTiK5nl-",
        "outputId": "ab19efd3-2deb-4895-ffb3-67f56ac00169"
      },
      "execution_count": null,
      "outputs": [
        {
          "output_type": "stream",
          "name": "stdout",
          "text": [
            "Matriz P:\n",
            "[[0. 1. 0.]\n",
            " [0. 0. 1.]\n",
            " [1. 0. 0.]]\n",
            "Matriz L:\n",
            "[[1.         0.         0.        ]\n",
            " [0.14285714 1.         0.        ]\n",
            " [0.57142857 0.5        1.        ]]\n",
            "Matriz U:\n",
            "[[7.         8.         9.        ]\n",
            " [0.         0.85714286 1.71428571]\n",
            " [0.         0.         0.        ]]\n"
          ]
        }
      ]
    },
    {
      "cell_type": "markdown",
      "source": [
        "###***Espacios Vectoriales***\n",
        "Un espacio vectorial es un conjunto no vacío V de objetos, llamados vectores, en el que se han definido dos operaciones: la suma y el producto por un escalar (número real) sujeta a los diez axiomas que se dan a continuación. Los axiomas deben ser válidos para todos los vectores u, v y w en V y todos los escalares α y β reales. Llamamos u + v a la suma de vectores en V, y αv al producto de un número real α por un vector v ∈ V. Los diez axiomas que deben cumplirse son\n",
        "\n",
        "\n",
        "$Debe \\quad cumplirse\\quad  para\\quad  cualquier\\quad  u, v \\quad y\\quad  w\\quad  en\\quad  V:$\n",
        "\n",
        "$1. u + v \\quad esta \\quad en \\quad V$\n",
        "\n",
        "$2.u + v \\quad = v+u $\n",
        "\n",
        "$3.(u + v) + w = u + (v+w)$\n",
        "\n",
        "$4. Existe\\quad  un\\quad  vector\\quad  nulo\\quad  0V\\quad  en\\quad  V \\quad tal \\quad que\\quad  v + 0V = v$\n",
        "\n",
        "$5. Para\\quad  cada\\quad  v\\quad  en\\quad  V,\\quad  existe\\quad  un\\quad  opuesto\\quad  (-v)\\quad  en\\quad  V\\quad  tal\\quad  que\\quad  v + (-v) = 0V$\n",
        "\n",
        "$6. α\\quad v \\quad está\\quad  en\\quad  V$\n",
        "\n",
        "$7. α(u + v) = αu + αv$\n",
        "\n",
        "$8. (α + β)v = αv + βv$\n",
        "\n",
        "$9. α(βv) = (αβ)v$\n",
        "\n",
        "$10. 1v = v$\n",
        "\n",
        " \n",
        "\n",
        "Ejemplo :\n",
        "\n",
        "De acuerdo con las propiedades que vimos en la primera unidad, podemos afirmar que $ \\mathbb{R}^3$ es un espacio vectorial.\n",
        "\n",
        "Los espacios $ \\mathbb{R}^n$, con $n≥1$\n",
        ", son los ejemplos principales de espacios vectoriales. La intuición geométrica desarrollada para $ \\mathbb{R}^3$nos ayudará a entender y visualizar muchos conceptos de esta unidad.\n",
        "\n",
        "\n",
        "Los vectores de $ \\mathbb{R}^n$ son n-uplas de número reales, o sea:\n",
        "\n",
        "$$\\mathbb{R} = {(x1,x2,....,x_n), con \\quad x_i \\in \\mathbb{R}}$$\n",
        "\n",
        "En $\\mathbb{R}^n$ , la suma de vectores y e producto por un escalar se definen así:\n",
        "\n",
        "$$Sean \\quad u = (u_1,u_2,...,u_n)\\quad y \\quad  v = (v_1,v_2,...,v_n) \\in  \\mathbb{R}^n$$\n",
        "\n",
        "$$ u+v=(u_1+v_1,u_2+v_2,...,u_n+v_n) \\in \\mathbb{R}^n$$\n",
        "\n",
        "$$αv=(αv_1,αv_2,..,αv_n) \\in \\mathbb{R}^n$$\n",
        "\n",
        "Puede comprobarse que las operaciones definidas verifican los axiomas de espacio vectorial."
      ],
      "metadata": {
        "id": "MbbZDeWRv8Gk"
      }
    },
    {
      "cell_type": "code",
      "source": [
        "class Vector:\n",
        "    def __init__(self, coordinates):\n",
        "        self.coordinates = coordinates\n",
        "\n",
        "    def __add__(self, other):\n",
        "        if len(self.coordinates) != len(other.coordinates):\n",
        "            raise ValueError(\"Los vectores deben tener la misma longitud\")\n",
        "        result = [x + y for x, y in zip(self.coordinates, other.coordinates)]\n",
        "        return Vector(result)\n",
        "\n",
        "    def __mul__(self, scalar):\n",
        "        result = [x * scalar for x in self.coordinates]\n",
        "        return Vector(result)\n",
        "\n",
        "    def __str__(self):\n",
        "        return str(self.coordinates)\n",
        "\n",
        "\n",
        "# Creación de vectores\n",
        "v1 = Vector([1, 2, 3])\n",
        "v2 = Vector([4, 5, 6])\n",
        "v3 = Vector([7, 8, 9])\n",
        "\n",
        "# Operaciones en el espacio vectorial\n",
        "sum_v = v1 + v2\n",
        "mul_v = v3 * 2\n",
        "\n",
        "# Resultados\n",
        "print(\"Suma de vectores:\", sum_v)\n",
        "print(\"Multiplicación por escalar:\", mul_v)\n"
      ],
      "metadata": {
        "colab": {
          "base_uri": "https://localhost:8080/"
        },
        "id": "1nIetZFw1Bu2",
        "outputId": "724428c3-3cb3-46b2-ae21-62d9485775a9"
      },
      "execution_count": null,
      "outputs": [
        {
          "output_type": "stream",
          "name": "stdout",
          "text": [
            "Suma de vectores: [5, 7, 9]\n",
            "Multiplicación por escalar: [14, 16, 18]\n"
          ]
        }
      ]
    },
    {
      "cell_type": "markdown",
      "source": [
        "###***Subespacios Vectoriales***\n",
        "Un subespacio vectorial de un espacio vectorial $V$ sobre un campo $K$ es un subconjunto no vacío $U$ de V que satisface las siguientes tres condiciones:\n",
        "\n",
        "1 . El vector cero de V está en U. 2. U es cerrado bajo la suma, es decir, si u y v están en U, entonces su suma u + v también está en U.\n",
        "\n",
        "U es cerrado bajo la multiplicación por los escalares de K, es decir, si u está en U y a es un escalar en K, entonces el producto a u también está en U.\n",
        "\n",
        "En resumen, un subespacio vectorial es un conjunto de vectores que es un espacio vectorial en sí mismo , y que está contenido dentro de un espacio vectorial más grande.\n",
        "\n",
        "Sean  $S\\quad Y\\quad T $ subespacios del mismo espacio vectorial $V$\n",
        "\n",
        ". Definimos la intersección como sigue:\n",
        " \n",
        " $$S \\cap T = {v  \\in V ; v\\in S ∧  v \\in T}$$ intersección como sigue:\n",
        " Propiedad\n",
        "  $$S \\cap T \\quad es\\quad subespacio\\quad de\\quad V$$\n",
        "\n",
        "  Demostración\n",
        "$$0_v ∈ S ∧ 0_v \\in T ⇒ 0_v \\in S ∩ T$$\n",
        "\n",
        "Consideramos $ u, v \\in S ∧ T$\n",
        "\n",
        "\n",
        "$$u \\in S\\quad  ∧\\quad u\\in T\\quad∧\\quad v \\in S\\quad  ∧\\quad v \\in T$$\n",
        "\n",
        "\n",
        "$$u \\in S\\quad  ∧\\quad u\\in S ⇒ u + v \\in S\\quad [1]$$\n",
        "\n",
        "$$u\\in T ∧\\quad v\\in T\\quad  ⇒u+v\\in T\\quad [2]$$\n",
        "\n",
        "De [1] y [2] se deduce que $u + v ∈ S ∩ T$\n",
        "\n",
        "\n",
        "\n",
        "\n",
        "\n",
        "\n"
      ],
      "metadata": {
        "id": "8P3lnHWk1Kiw"
      }
    },
    {
      "cell_type": "code",
      "source": [
        "import numpy as np\n",
        "\n",
        "def es_subespacio(vectores):\n",
        "    if len(vectores) == 0:\n",
        "        return False\n",
        "    \n",
        "    dim = len(vectores[0])\n",
        "    for vector in vectores:\n",
        "        if len(vector) != dim:\n",
        "            return False\n",
        "    \n",
        "    # Convertir la lista de vectores en una matriz\n",
        "    matriz = np.array(vectores)\n",
        "    \n",
        "    # Verificar si la matriz tiene rango completo\n",
        "    if np.linalg.matrix_rank(matriz) < dim:\n",
        "        return False\n",
        "    \n",
        "    # Verificar si se cumple la cerradura bajo la suma vectorial\n",
        "    for i in range(dim):\n",
        "        suma = np.zeros(dim)\n",
        "        for vector in vectores:\n",
        "            suma += vector\n",
        "        if not np.array_equal(suma, np.zeros(dim)):\n",
        "            return False\n",
        "    \n",
        "    # Verificar si se cumple la cerradura bajo la multiplicación escalar\n",
        "    for vector in vectores:\n",
        "        for scalar in np.arange(-10, 10):\n",
        "            multiplicacion = scalar * vector\n",
        "            if not np.array_equal(multiplicacion, np.zeros(dim)):\n",
        "                return False\n",
        "    \n",
        "    return True\n",
        "\n",
        "# Ejemplo de uso\n",
        "vectores = [[1, 2, 3], [4, 5, 6], [7, 8, 9]]\n",
        "if es_subespacio(vectores):\n",
        "    print(\"El conjunto de vectores forma un subespacio vectorial.\")\n",
        "else:\n",
        "    print(\"El conjunto de vectores no forma un subespacio vectorial.\")\n",
        "    print(vectores)\n"
      ],
      "metadata": {
        "colab": {
          "base_uri": "https://localhost:8080/"
        },
        "id": "Sgy98HQkNqgo",
        "outputId": "3d6a0229-50eb-4a32-c7e2-cec8b9c32d2c"
      },
      "execution_count": null,
      "outputs": [
        {
          "output_type": "stream",
          "name": "stdout",
          "text": [
            "El conjunto de vectores no forma un subespacio vectorial.\n",
            "[[1, 2, 3], [4, 5, 6], [7, 8, 9]]\n"
          ]
        }
      ]
    },
    {
      "cell_type": "markdown",
      "source": [
        "###***Bases y Dimensiones***\n",
        "\n",
        "En álgebra lineal, una base es un conjunto de vectores que son linealmente independientes y que pueden generar cualquier vector en un espacio vectorial mediante combinaciones lineales. La dimensión de un espacio vectorial es el número de vectores que se encuentran en su base.\n",
        "\n",
        "Más formalmente, una base B de un espacio vectorial V es un conjunto de vectores {v1, v2, ..., vn} tal que:\n",
        "\n",
        "Los vectores en B son linealmente independientes, lo que significa que ninguna combinación lineal de ellos puede representar el vector cero a menos que todos los coeficientes sean cero.\n",
        "\n",
        "Los vectores en B pueden generar cualquier vector en V, lo que significa que cualquier vector en V se puede representar como una combinación lineal única de los vectores en B.\n",
        "\n",
        "La dimensión de V se define como el número de vectores en cualquier base de V.\n",
        "\n",
        "Por ejemplo, si tenemos el espacio vectorial P2 de polinomios de grado 2 o menor, una posible base sería {1, x, x^2}. En este caso, podemos decir que la dimensión de P2 es 3, ya que hay tres vectores en la base. Cualquier polinomio en P2 se puede representar como una combinación lineal única de estos tres vectores.\n",
        "\n",
        "\n",
        "Ejemplo:\n",
        "\n",
        "Calcular la dimensión y una base del siguiente subespacio vectorial de $M_2×_2(\\mathbb{R})$:\n",
        "\n",
        "\n",
        "\\begin{Bmatrix}\n",
        "\\begin{pmatrix}\n",
        "a & b \\\\\n",
        "c & d \n",
        "\\end{pmatrix}\n",
        "M_2×_2(\\mathbb{R}) \n",
        "/\\begin{matrix}\n",
        "a-b-c=0\\\\\n",
        "a+2b+d=0\\\\\n",
        "3c+b+d=0\n",
        "\\end{matrix}\n",
        "\\end{Bmatrix}\n",
        "\n",
        "\n",
        "Soluci´on:\n",
        "Realizando operaciones elementales sobre las filas de la matriz de coeficientes del sistema, tenemos:\n",
        "\n",
        "\\begin{pmatrix}\n",
        "1 & 1 & -10\\\\\n",
        "1 & 2 & 01\\\\\n",
        "0 & 3 & 11\n",
        "\\end{pmatrix}\n",
        "⇒$F_21(-1)$\n",
        "\n",
        "\\begin{pmatrix}\n",
        "1 & -1 & -10\\\\\n",
        "0 & 3 & 11\\\\\n",
        "0 & 3 & 11\n",
        "\\end{pmatrix}\n",
        "\n",
        "⇒$F_32(-1)$\n",
        "\n",
        "\\begin{pmatrix}\n",
        "1 & -1 & -10\\\\\n",
        "0 & 3 & 11\\\\\n",
        "0 & 0 & 00\n",
        "\\end{pmatrix}\n",
        "\n",
        "\n",
        "Por lo tanto, el sistema equivalente es\n",
        "\n",
        "\\begin{Bmatrix}\n",
        "a-b-c=0\\\\\n",
        "3b+c+d=0\n",
        "\\end{Bmatrix}\n",
        "⇔\n",
        "\\begin{Bmatrix}\n",
        "a=b+c\\\\\n",
        "d=-3b-c\n",
        "\\end{Bmatrix}\n",
        "\n",
        "Así,\n",
        "\n",
        "\\begin{Bmatrix}\n",
        "\\begin{pmatrix}\n",
        "b+c &  \\\\\n",
        "3b+c+d=0\\end{pmatrix}\n",
        "/C,d \\in \\mathbb{R}\n",
        "\\end{Bmatrix}\n",
        " \n",
        "= \n",
        "\n",
        "\\begin{Bmatrix}b\n",
        "\\begin{pmatrix}\n",
        "1 & 1\\\\\n",
        "0 & -3\\end{pmatrix}+c\n",
        "\\begin{pmatrix}\n",
        "1 & 0\\\\\n",
        "1 & -1\\end{pmatrix}/\n",
        "c,d \\in \\mathbb{R}\n",
        "\\end{Bmatrix}\n",
        "\n",
        "=< \n",
        "\n",
        "\\begin{Bmatrix}\n",
        "\\begin{pmatrix}\n",
        "1 & 1\\\\\n",
        "0 & -3\\end{pmatrix},\n",
        "\\begin{pmatrix}\n",
        "1 & 0\\\\\n",
        "1 & -1\\end{pmatrix}\n",
        "\\end{Bmatrix}>\n",
        "\n",
        "\n",
        "La dimensión de $U$ es 2 y una base de $B$ =\n",
        "\n",
        "\\begin{Bmatrix}\n",
        "\\begin{pmatrix}\n",
        "1 & 1\\\\\n",
        "0 & -3\\end{pmatrix},\n",
        "\\begin{pmatrix}\n",
        "1 & 0\\\\\n",
        "1 & -1\\end{pmatrix}\n",
        "\\end{Bmatrix}\n",
        "\n"
      ],
      "metadata": {
        "id": "lg49LRwhN-XU"
      }
    },
    {
      "cell_type": "code",
      "source": [
        "def find_bases_and_dimensions(vectors):\n",
        "    bases = []\n",
        "    dimensions = 0\n",
        "\n",
        "    for vector in vectors:\n",
        "        is_linearly_dependent = False\n",
        "        for base in bases:\n",
        "            if is_linear_combination(vector, base):\n",
        "                is_linearly_dependent = True\n",
        "                break\n",
        "\n",
        "        if not is_linearly_dependent:\n",
        "            bases.append(vector)\n",
        "            dimensions += 1\n",
        "\n",
        "    return bases, dimensions\n",
        "\n",
        "def is_linear_combination(vector, base):\n",
        "    # Verificar si el vector es una combinación lineal de la base\n",
        "    for i in range(len(vector)):\n",
        "        if vector[i] != 0 and base[i] != 0:\n",
        "            scalar = vector[i] / base[i]\n",
        "            for j in range(len(vector)):\n",
        "                if vector[j] != base[j] * scalar:\n",
        "                    return False\n",
        "    return True\n",
        "\n",
        "# Ejemplo de uso\n",
        "vectors = [[1, 2, 3],\n",
        "           [4, 5, 6],\n",
        "           [7, 8, 9],\n",
        "           [2, 4, 6]]\n",
        "\n",
        "bases, dimensions = find_bases_and_dimensions(vectors)\n",
        "print(\"Bases:\")\n",
        "for base in bases:\n",
        "    print(base)\n",
        "print(\"Dimensions:\", dimensions)\n"
      ],
      "metadata": {
        "colab": {
          "base_uri": "https://localhost:8080/"
        },
        "id": "jYjS11lQfAd5",
        "outputId": "deee38ba-58d7-431a-fc94-c27acf03a2bb"
      },
      "execution_count": null,
      "outputs": [
        {
          "output_type": "stream",
          "name": "stdout",
          "text": [
            "Bases:\n",
            "[1, 2, 3]\n",
            "[4, 5, 6]\n",
            "[7, 8, 9]\n",
            "Dimensions: 3\n"
          ]
        }
      ]
    },
    {
      "cell_type": "markdown",
      "source": [
        "###***Ortogonalidad y Ortonormalidad***\n",
        "\n",
        "Dos vectores son ortogonales si su producto escalar es cero. Más formalmente, dados los vectores u y v, se dice que son ortogonales si u·v = 0, donde · representa el producto escalar entre u y v. Un conjunto de vectores se dice que es ortogonal si todos los pares de vectores en el conjunto son ortogonales.\n",
        "\n",
        "Por otro lado, un conjunto de vectores se dice que es ortonormal si es ortogonal y cada uno de los vectores tiene una longitud de 1. En otras palabras, un conjunto ortonormal es aquel en el que todos los vectores son ortogonales entre sí y cada uno tiene una norma igual a 1. Un ejemplo de conjunto ortonormal es la base canónica en el espacio vectorial Euclídeo de dimensión n, donde cada vector es la i-ésima coordenada unitaria.\n",
        "\n",
        "###***Vectores ortogonales***\n",
        "Dos vectores son ortogonales si su producto escalar es cero. Es decir,\n",
        "\n",
        "$\\overrightarrow{u}$ .$\\overrightarrow{v}$ = $0 u_1.v_1+u_2.v_2=0$\n",
        "\n",
        "Ejemplo\n",
        "\n",
        "\n",
        "sean $\\overrightarrow{u} = (3,0), \\overrightarrow{v} = (5,5)$ \n",
        "\n",
        "Calculamos su producto escalar\n",
        "\n",
        "$\\overrightarrow{u}$ . $\\overrightarrow{v}$ =$3.5+0,5 ≠ 0$\n",
        "\n",
        "y concluimos que no son perpendiculares/ortogonales\n",
        "\n",
        "###***Vectores ortonormales***\n",
        "\n",
        "Dos vectores son ortonormales si:\n",
        "\n",
        "1. Su producto escalar es cero.\n",
        "\n",
        "2. Los dos vectores son unitarios.\n",
        "\n",
        "En otras palabras se cumple que\n",
        "\n",
        "1. $\\overrightarrow{i}.\\overrightarrow{j}=0$\n",
        "2.$|\\overrightarrow{i}| = |\\overrightarrow{j}| = 1$\n",
        "\n",
        "$\\overrightarrow{i}.\\overrightarrow{i} = \n",
        "\\overrightarrow{i}.\\overrightarrow{j}=1$\n",
        "\n",
        "3.$\\overrightarrow{i}.\\overrightarrow{j} = \n",
        "\\overrightarrow{j}.\\overrightarrow{i}=0$\n",
        "\n",
        "Ejemplos:\n",
        "\n",
        "Calcular el valor de m para que los vectores  $\\vec{u}=(1, m) \\text { y } \\vec{v}=(-4, m)$  sean ortogonales.\n",
        "\n",
        "$$\\vec{u}.\\vec{v}= -4.1+m.m=0$$\n",
        "\n",
        "entonces\n",
        "\n",
        "$$m^2=4 ⇒ m= ± 2$$\n",
        "\n",
        " Suponiendo que respecto de la base ortonormal  $\\{ \\vec{u}, \\vec{v} \\}$ del plano los vectores  $\\vec{a} y  \\vec{b}$ tienen como expresiones\n",
        "\n",
        " $$\\vec{a} = -2\\vec{u}+k\\vec{v}$$    $$\\vec{b} = -5\\vec{u}+3\\vec{v}$$   \n",
        "\n",
        "Calcular el valor de k sabiendo que $\\vec{a} \\cdot \\vec{b}=-6$.\n",
        "\n",
        "\n",
        "Calculamos su producto escalar considerando las condiciones del problema\n",
        "\n",
        " $$\\ \\begin {align*} \\vec{a} \\cdot \\vec{b} &= (-2 \\vec{u}+k \\vec{v}) \\cdot(5 \\vec{u}-3 \\vec{v}) \\\\ &= -2 \\cdot 5 \\vec{u} \\cdot \\vec{u}+2 \\cdot 3 \\cdot \\vec{u} \\cdot \\vec{v}+5 \\cdot k \\cdot \\vec{v} \\cdot \\vec{u}-3 \\cdot k \\vec{v} \\cdot \\vec{v} \\\\ &= -10+0+0-3 \\cdot k \\\\ &= -10-3 \\cdot k=-6 \\end{align*}$$\n",
        "\n",
        "entonces\n",
        "\n",
        "   $$\\ k = - \\frac{4}{3}\\$$\n",
        "\n",
        " Suponiendo que respecto de la base ortonormal  $\\{ \\vec{u}, \\vec{v} \\}$ del plano los vectores  $\\vec{a} y  \\vec{b}$ tienen como expresiones\n",
        "\n",
        " $$\\ \\vec{a}=-3 \\vec{u}+k \\vec{v} \\quad \\quad \\vec{b}=\\vec{u}-5 \\vec{v} \\$$\n",
        "\n",
        "\n",
        " Calcular el valor de k para que los dos\n",
        "  vectores sean ortogonales.\n",
        "\n",
        "   * \\begin{align*} \\vec{a} \\cdot \\vec{b} &= 0 \\\\ (-3 \\vec{u}+k \\vec{v}) \\cdot(\\vec{u}-5 \\vec{v})&=0 \\\\ -3-5 k&=0 \\end{align*}\n",
        "\n",
        "\n",
        "\n",
        "entonces\n",
        "\n",
        "\n",
        " $$\\ k=-\\frac{3}{5} \\$$ \n"
      ],
      "metadata": {
        "id": "atlw3LJefgUx"
      }
    },
    {
      "cell_type": "code",
      "source": [
        "import numpy as np\n",
        "\n",
        "# Crear dos vectores aleatorios de tres elementos\n",
        "v1 = np.random.rand(3)\n",
        "v2 = np.random.rand(3)\n",
        "\n",
        "# Hacer que los vectores sean ortogonales\n",
        "v2 = v2 - np.dot(v1, v2) / np.dot(v1, v1) * v1\n",
        "\n",
        "# Verificar que los vectores sean ortogonales\n",
        "print(np.dot(v1, v2)) # Debe ser aproximadamente igual a cero\n",
        "\n",
        "# Convertir los vectores en ortonormales\n",
        "v1 = v1 / np.linalg.norm(v1)\n",
        "v2 = v2 / np.linalg.norm(v2)\n",
        "\n",
        "# Verificar que los vectores sean ortonormales\n",
        "print(np.dot(v1, v2)) # Debe ser igual a cero\n",
        "print(np.linalg.norm(v1)) # Debe ser igual a 1\n",
        "print(np.linalg.norm(v2)) # Debe ser igual a 1"
      ],
      "metadata": {
        "colab": {
          "base_uri": "https://localhost:8080/"
        },
        "id": "6YJGcuMl4Pdl",
        "outputId": "20d884d3-ad21-408f-e3e5-f9f2e726f330"
      },
      "execution_count": null,
      "outputs": [
        {
          "output_type": "stream",
          "name": "stdout",
          "text": [
            "1.3877787807814457e-17\n",
            "4.85722573273506e-17\n",
            "0.9999999999999999\n",
            "1.0\n"
          ]
        }
      ]
    },
    {
      "cell_type": "code",
      "source": [
        "import numpy as np\n",
        "A = np.array([[1,3,4],[2,8,6],[5,1,35]]) # creando la matriz 1\n",
        "inv_a = np.linalg.inv(A)\n",
        "print (inv_a)\n",
        "C = np.array([[-11,2,2],[-4,0,1],[6,-1,-1]])\n",
        "inv_c = np.linalg.inv(C)\n",
        "print (inv_c)\n",
        "\n",
        "A = np.array([[1,3,4],[2,8,6],[5,1,35]])\n",
        "C = np.array([[-11,2,2],[-4,0,1],[6,-1,-1]])\n",
        "\n",
        "inv_AC = np.linalg.inv(np.dot(A,C))\n",
        "\n",
        "print (inv_AC)\n",
        "\n",
        "\n",
        "\n"
      ],
      "metadata": {
        "colab": {
          "base_uri": "https://localhost:8080/"
        },
        "id": "xw2PiQBR3ekL",
        "outputId": "2ee6ea54-f158-474e-f464-7a694654c4c7"
      },
      "execution_count": null,
      "outputs": [
        {
          "output_type": "stream",
          "name": "stdout",
          "text": [
            "[[137.  -50.5  -7. ]\n",
            " [-20.    7.5   1. ]\n",
            " [-19.    7.    1. ]]\n",
            "[[ 1.00000000e+00 -2.42230478e-16  2.00000000e+00]\n",
            " [ 2.00000000e+00 -1.00000000e+00  3.00000000e+00]\n",
            " [ 4.00000000e+00  1.00000000e+00  8.00000000e+00]]\n",
            "[[  99.   -36.5   -5. ]\n",
            " [ 237.   -87.5  -12. ]\n",
            " [ 376.  -138.5  -19. ]]\n"
          ]
        }
      ]
    },
    {
      "cell_type": "code",
      "source": [
        "np.dot(np.dot(A,C),inv_AC)"
      ],
      "metadata": {
        "colab": {
          "base_uri": "https://localhost:8080/"
        },
        "id": "JvTka2F33-l2",
        "outputId": "4b1f825d-f6f4-4498-d77b-96531a2347d2"
      },
      "execution_count": null,
      "outputs": [
        {
          "output_type": "execute_result",
          "data": {
            "text/plain": [
              "array([[ 1.00000000e+00,  0.00000000e+00, -3.55271368e-15],\n",
              "       [ 2.27373675e-13,  1.00000000e+00, -1.42108547e-14],\n",
              "       [ 9.09494702e-13, -4.54747351e-13,  1.00000000e+00]])"
            ]
          },
          "metadata": {},
          "execution_count": 32
        }
      ]
    },
    {
      "cell_type": "markdown",
      "source": [
        "###***CÒNICAS***\n",
        "\n",
        "EL LUGAR GEOMÉTRICO DE LOS\n",
        "PUNTOS CUYA RELACIÓN DE\n",
        "DISTANCIAS A UN PUNTO Y UNA\n",
        "RECTA FIJOS ES CONSTANTE\n",
        "RECIBE EL NOMBRE DE\n",
        "SECCIÓN CÓNICA O SIMPLEMENTE\n",
        "ÚNICA.\n",
        "\n",
        "$$PUNTO\\quad FIJO → FOCO$$\n",
        "$$RECTA\\quad FIJA → DIRECTRIZ$$\n",
        "$$RELACIÓN\\quad CONSTANTE → EXCENTRICIDAD$$\n",
        "\n",
        "\n",
        "\n",
        "CATEGORIAS\n",
        "\n",
        "$$SI\\quad e < 1 , LA\\quad  CÓNICA\\quad SE\\quad LLAMA\\quad ELIPSE$$\n",
        "$$SI\\quad e = 1 , LA\\quad  CÓNICA\\quad SE\\quad LLAMA\\quad PARÁBOLA$$\n",
        "$$SI\\quad e > 1, LA\\quad CÓNICA\\quad SE\\quad LLAMA\\quad HIPÉRBOLA$$\n",
        "\n",
        "Empecemos por importar los módulos y establecer algunas propiedades estéticas:\n",
        "\n",
        "Para los siguientes ejemplos usaremos el mismo plano que se muestra a continuación\n",
        "    \n",
        "Tenga en cuenta que numpy.meshgrid crea una rejilla que replica el primer array horizontalmente y el segundo verticalmente, de la misma manera que la rejilla de MATLAB. No confundir con numpy.mgrid, que resultará en una malla transpuesta.\n",
        "\n",
        "Para simplificar nuestros ejemplos, definamos una función para trazar los ejes de origen:"
      ],
      "metadata": {
        "id": "3XuL_YkIgHet"
      }
    },
    {
      "cell_type": "code",
      "source": [
        "import numpy as np\n",
        "import matplotlib.pyplot as plt\n",
        "\n",
        "# Definimos los parámetros de la elipse\n",
        "a = 3.0 # Semieje mayor\n",
        "b = 2.0 # Semieje menor\n",
        "x0, y0 = 1.0, 1.0 # Coordenadas del centro\n",
        "\n",
        "# Generamos los puntos de la elipse\n",
        "t = np.linspace(0, 2*np.pi, 100)\n",
        "x = x0 + a*np.cos(t)\n",
        "y = y0 + b*np.sin(t)\n",
        "\n",
        "# Graficamos la elipse\n",
        "plt.plot(x, y)\n",
        "\n",
        "# Configuramos la grilla y los ejes\n",
        "plt.grid()\n",
        "plt.axhline(0, color='black', lw=2)\n",
        "plt.axvline(0, color='black', lw=2)\n",
        "plt.xlim(-5, 5)\n",
        "plt.ylim(-4, 4)\n",
        "\n",
        "# Mostramos el gráfico\n",
        "plt.show()\n"
      ],
      "metadata": {
        "colab": {
          "base_uri": "https://localhost:8080/",
          "height": 435
        },
        "id": "nhMG1pC_QuGS",
        "outputId": "6d740127-60df-4ab6-c2dd-c2e6cfa5a351"
      },
      "execution_count": null,
      "outputs": [
        {
          "output_type": "display_data",
          "data": {
            "text/plain": [
              "<Figure size 640x480 with 1 Axes>"
            ],
            "image/png": "[encoded data removed]"
          },
          "metadata": {}
        }
      ]
    },
    {
      "cell_type": "markdown",
      "source": [
        "###***PARABOLA***\n",
        "Una parábola es una curva plana y simétrica que se forma mediante la intersección de un plano con un cono, de manera que el plano corta todas las generatrices del cono. La parábola tiene varias características distintivas:\n",
        "\n",
        "Simetría: Una parábola es simétrica respecto a un eje llamado eje de simetría. Todas las distancias desde cualquier punto de la parábola hasta el eje de simetría son iguales.\n",
        "\n",
        "Foco y directriz: La parábola tiene un punto especial llamado foco y una línea llamada directriz. La distancia desde cualquier punto de la parábola hasta el foco es igual a la distancia perpendicular desde el punto hasta la directriz.\n",
        "\n",
        "Ecuación: La ecuación general de una parábola en el plano cartesiano es de la forma:\n",
        "\n",
        "$$y = ax^2 + bx + c$$\n",
        "\n",
        "Donde \"a\", \"b\" y \"c\" son constantes, y \"a\" determina la apertura y la orientación de la parábola.\n",
        "\n",
        "Puntos importantes: Algunos puntos clave en una parábola son el vértice, el punto más bajo o más alto de la curva dependiendo de si la parábola se abre hacia arriba o hacia abajo. El vértice tiene coordenadas (h, k), donde \"h\" y \"k\" se pueden encontrar utilizando la fórmula:\n",
        "\n",
        "$$h = -b / (2a)$$\n",
        "$$k = f(h) = ah^2 + bh + c$$\n",
        "\n",
        "donde f(h) representa el valor de \"y\" en el punto \"h\".\n",
        "\n",
        "Las parábolas tienen numerosas aplicaciones en matemáticas y ciencias aplicadas. Se utilizan en óptica para describir la forma de los espejos y las lentes, en física para modelar trayectorias de proyectiles, en ingeniería para el diseño de estructuras y en muchas otras áreas."
      ],
      "metadata": {
        "id": "uy9INg2TglaY"
      }
    },
    {
      "cell_type": "markdown",
      "source": [
        "$$Foco\\quad a\\quad la\\quad derecha\\quad de\\quad\n",
        "directriz$$\n",
        "\n",
        "$$(y-k)^2=4a(x-h)$$"
      ],
      "metadata": {
        "id": "ww3J6tqtTRZL"
      }
    },
    {
      "cell_type": "code",
      "source": [
        "import numpy as np\n",
        "import matplotlib.pyplot as plt\n",
        "a = 1\n",
        "p = -2\n",
        "x = np.linspace(-5, 5, 100)\n",
        "y = (1/(4*p)) * (x - p)**2\n",
        "plt.plot(x, y)\n",
        "plt.plot(x, -y)\n",
        "plt.xlabel(\"x-axis\")\n",
        "plt.ylabel(\"y-axis\")\n",
        "plt.grid()\n",
        "plt.show()\n"
      ],
      "metadata": {
        "colab": {
          "base_uri": "https://localhost:8080/",
          "height": 449
        },
        "id": "RbUxkcJETGiK",
        "outputId": "d7b24dc6-0c17-4077-e4a5-4eb940844701"
      },
      "execution_count": null,
      "outputs": [
        {
          "output_type": "display_data",
          "data": {
            "text/plain": [
              "<Figure size 640x480 with 1 Axes>"
            ],
            "image/png": "[encoded data removed]"
          },
          "metadata": {}
        }
      ]
    },
    {
      "cell_type": "markdown",
      "source": [
        "$$Foco\\quad a\\quad la\\quad izquierda\\quad de\\quad directriz$$\n",
        "\n",
        "$$(y-k)^2=-4a(x-h)$$"
      ],
      "metadata": {
        "id": "IEQ3dft9Wplv"
      }
    },
    {
      "cell_type": "code",
      "source": [
        "import matplotlib.pyplot as plt\n",
        "import numpy as np\n",
        "a = 1\n",
        "p = -2\n",
        "x = np.linspace(-5, 5, 500)\n",
        "y = -(1/(4*p)) * (x + p)**2\n",
        "plt.plot(x, y)\n",
        "plt.plot(x, -y)\n",
        "plt.xlabel(\"x-axis\")\n",
        "plt.ylabel(\"y-axis\")\n",
        "plt.grid()\n",
        "plt.show()\n"
      ],
      "metadata": {
        "colab": {
          "base_uri": "https://localhost:8080/",
          "height": 449
        },
        "id": "TT4OaRl1Uj6Y",
        "outputId": "e03c23ae-5f50-4c0c-b782-76036f3e6861"
      },
      "execution_count": null,
      "outputs": [
        {
          "output_type": "display_data",
          "data": {
            "text/plain": [
              "<Figure size 640x480 with 1 Axes>"
            ],
            "image/png": "[encoded data removed]"
          },
          "metadata": {}
        }
      ]
    },
    {
      "cell_type": "markdown",
      "source": [
        "$$Directriz\\quad encima\\quad de\\quad\n",
        "foco$$\n",
        "\n",
        "$$(x-h)^2=-4a(y-k)$$"
      ],
      "metadata": {
        "id": "Uei-t63jXvLz"
      }
    },
    {
      "cell_type": "code",
      "source": [
        "import matplotlib.pyplot as plt\n",
        "import numpy as np\n",
        "a = 1\n",
        "p = 2\n",
        "x = np.linspace(-5, 5, 500)\n",
        "y = (1/(4*p)) * x**2 - p/4\n",
        "plt.plot(x, y)\n",
        "plt.plot(x, -y + p/2)\n",
        "plt.xlabel(\"x-axis\")\n",
        "plt.ylabel(\"y-axis\")\n",
        "plt.grid()\n",
        "plt.show()\n"
      ],
      "metadata": {
        "colab": {
          "base_uri": "https://localhost:8080/",
          "height": 449
        },
        "id": "Av6d3ju2XJVg",
        "outputId": "35b399ca-5a03-4f9c-fd7f-807dbddd50fc"
      },
      "execution_count": null,
      "outputs": [
        {
          "output_type": "display_data",
          "data": {
            "text/plain": [
              "<Figure size 640x480 with 1 Axes>"
            ],
            "image/png": "[encoded data removed]"
          },
          "metadata": {}
        }
      ]
    },
    {
      "cell_type": "markdown",
      "source": [
        "$$Foco\\quad encima\\quad\n",
        "de\\quad directriz$$\n",
        "$$(x-h)^2=4a(y-k)$$"
      ],
      "metadata": {
        "id": "XlpcoFJ8Y3iO"
      }
    },
    {
      "cell_type": "code",
      "source": [
        "import matplotlib.pyplot as plt\n",
        "import numpy as np\n",
        "a = -1\n",
        "p = -1\n",
        "x = np.linspace(-5, 5, 500)\n",
        "y = (1/(4*p)) * x**2 + p/4\n",
        "plt.plot(x, y)\n",
        "plt.plot(-x, -y + p/2)\n",
        "plt.xlabel(\"x-axis\")\n",
        "plt.ylabel(\"y-axis\")\n",
        "plt.grid()\n",
        "plt.show()"
      ],
      "metadata": {
        "colab": {
          "base_uri": "https://localhost:8080/",
          "height": 449
        },
        "id": "nWeZOPTJYFc7",
        "outputId": "49496378-881d-4889-863a-c082d36577f4"
      },
      "execution_count": null,
      "outputs": [
        {
          "output_type": "display_data",
          "data": {
            "text/plain": [
              "<Figure size 640x480 with 1 Axes>"
            ],
            "image/png": "[encoded data removed]"
          },
          "metadata": {}
        }
      ]
    },
    {
      "cell_type": "markdown",
      "source": [
        "###***ELIPSE***\n",
        "Sean los puntos fijos F ( c,0 ) y F (-c,0)\n",
        "Y 2a la suma constante l(a > c)\n",
        "Por definición : F`P + PF = 2a\n",
        "\n",
        "Conduce a la ecuación:\n",
        "\n",
        "$$\\frac{x^2} {a^2} + \\frac{y^2} {b^2}  =1$$\n",
        "\n",
        "Si los focos fueran coordenadas (0,c) y\n",
        "(0,-c) ,el EJE MAYOR estaría sobre\n",
        "el eje Y entonces la ec . sería\n",
        "\n",
        "\n",
        "$$\\frac{x^2} {b^2} + \\frac{y^2} {a^2}  =1$$\n",
        "\n",
        "excentricidad e\n",
        "\n",
        "$$e = \\frac {c}{a} =\\frac{\\sqrt{a^2-b^2}}{a} $$\n",
        "\n",
        "$$c = ae$$\n",
        "\n",
        "Si la excentricidad de una elipse fuera  1 , entonces tendríamos que\n",
        " $$ e=1\\quad\\Rightarrow\\quad \\frac{c}{a}=1\\quad\\Rightarrow\\quad c=a \\quad\\Rightarrow\\quad a^2=b^2+c^2\\quad\\Rightarrow \\quad b=0.$$\n",
        "\n",
        "\n",
        " Si la excentricidad de una elipse fuera 0 , tendríamos que\n",
        " $$ e=0\\quad\\Rightarrow\\quad \\frac{c}{a}=0\\quad\\Rightarrow\\quad c=0\\quad\\Rightarrow\\quad a^2=b^2+0^2\\quad\\Rightarrow\\quad a=b, $$\n",
        "lo cual se traduce a que los focos son iguales al centro, esto es,\n",
        " $$ F=O=F'.$$ \n",
        "Por lo tanto no tendríamos una elipse, si no un circulo con centro en  O.\n",
        "\n",
        "\n",
        "$Ejemplo:$\n",
        "\n",
        "Calcular los elementos característicos y la ecuación reducida de la elipse que tiene como focos las coordenadas: $F'(-3, 0) y F(3, 0)$, y su eje mayor mide $10$.\n",
        "\n",
        "\n",
        "$1$ Semieje mayor:\n",
        "\n",
        "Para calcularlo, utilicemos que el eje mayor mide 10 unidades, como el eje mayor es 2 veces el semieje mayor tenemos la siguiente relación:\n",
        "\n",
        "\\begin{equation*}2a=10\\Rightarrow a=5\\end{equation*}.\n",
        "\n",
        "$2$ Semidistancia focal:\n",
        "\n",
        "Para calcular la semidistancia focal, notemos que la distancia del centro a F es 3 y la distancia del centro a   F' también, de tal manera que tenemos la siguiente relación:\n",
        "\n",
        "\\begin{equation*}\\overline{FF'}=2c=6\\Rightarrow c=3\\end{equation*}\n",
        "\n",
        "$3$ Semieje menor:\n",
        "\n",
        "Para calcular el semieje menor, utilicemos la relación b^2=a^2-c^2, donde b representa la longitud del semieje menor:\n",
        "\n",
        "\\begin{equation*}b^2=5^2-3^2=25-9=16\\Rightarrow b=4\\end{equation*}\n",
        "\n",
        "$4$ Ecuación reducida:\n",
        "\n",
        "Sustituyendo en la expresión de la ecuación reducida de la elipse: \\begin{equation*}\\frac{x^2}{25}+\\frac{y^2}{9}=1\\end{equation*}\n",
        "\n",
        "$5$ Excentricidad:\n",
        "\n",
        "Para calcular la excentricidad recordemos que esta se obtiene del cociente de la distancia del semieje focal y la longitud del semieje mayor, de tal manera que tenemos la siguiente relación:\n",
        "\n",
        "\\begin{equation*}e=\\frac{c}{a}=\\frac{3}{5}\\end{equation*}"
      ],
      "metadata": {
        "id": "GPd7YDDTh_DH"
      }
    },
    {
      "cell_type": "code",
      "source": [
        "import numpy as np\n",
        "import matplotlib.pyplot as plt\n",
        "\n",
        "# Definir los parámetros de la elipse\n",
        "a = 3\n",
        "b = 2\n",
        "\n",
        "# Generar valores para la variable independiente\n",
        "theta = np.linspace(0, 2*np.pi, 1000)\n",
        "\n",
        "# Calcular los valores correspondientes de la variable dependiente para la elipse\n",
        "x = a * np.cos(theta)\n",
        "y = b * np.sin(theta)\n",
        "\n",
        "# Graficar la elipse\n",
        "plt.plot(x, y)\n",
        "\n",
        "# Establecer las etiquetas de los ejes y el título del gráfico\n",
        "plt.xlabel('Eje X')\n",
        "plt.ylabel('Eje Y')\n",
        "plt.title('Elipse')\n",
        "\n",
        "# Mostrar el gráfico\n",
        "plt.show()\n"
      ],
      "metadata": {
        "colab": {
          "base_uri": "https://localhost:8080/",
          "height": 472
        },
        "id": "mvbLy2SWx0uc",
        "outputId": "5352db3d-4c5a-41bd-dfd8-caa8495f087b"
      },
      "execution_count": null,
      "outputs": [
        {
          "output_type": "display_data",
          "data": {
            "text/plain": [
              "<Figure size 640x480 with 1 Axes>"
            ],
            "image/png": "[encoded data removed]"
          },
          "metadata": {}
        }
      ]
    },
    {
      "cell_type": "markdown",
      "source": [
        "####***HIPÈRBOLA***\n",
        "\n",
        "Ecuación\n",
        "\n",
        "$$\\frac{x^2}{a^2}-\\frac{y^2}{b^2}=1$$\n",
        "\n",
        "\n",
        "\n",
        "$$C^2 -A^2 = B^2$$\n",
        "\n",
        "Focos tienen coordenadas $F (C,0 ) y F`(-C,0 )$ distancia entre FYF ' es igual a $2a$\n",
        "\n",
        "Si los focos fueran $F(0,c) y F`(0,-c`)$ la ec. sería de la forma\n",
        "\n",
        "$$\\frac{y^2}{a^2}-\\frac{x^2}{b^2}=1$$\n",
        "\n",
        "Excentricidad:\n",
        "\n",
        "$$e = \\frac{c}{a} = \\frac{\\sqrt {a^2+b^2}}{a}  ; e> 1$$\n",
        "\n",
        "$CCS . directrices DD$\n",
        "\n",
        "Focos estàn sobre eje x\n",
        "\n",
        "$$X = ± \\frac {a}{e}$$    \n",
        "\n",
        " Focos està sobre eje y\n",
        "\n",
        "$$Y = ± \\frac{a}{e}$$ \n",
        "\n",
        "ECS, Asintotas \n",
        " \n",
        "$$y =\\quad ±\\quad \\frac{b}{a}\\quad x = cuando\\quad el\\quad eje\\quad real\\quad es\\quad x$$\n",
        "\n",
        "\n",
        "$$y =\\quad ±\\quad \\frac{a}{b}\\quad x = cuando\\quad el\\quad eje\\quad real\\quad es\\quad y$$\n",
        "\n",
        "\n",
        "si el centro de La hipérbola .\n",
        "es el pto coordenadas ( h ,K )\n",
        "\n",
        "\n",
        "\n",
        "$$\\frac{(x-h)^2}{a^2}-\\frac{(y-k)^2}{b^2}=1$$\n",
        "\n",
        "$(eje\\quad real\\quad paralelo\\quad al\\quad eje\\quad x)$\n",
        "\n",
        "\n",
        "$$\\frac{(y-k)^2}{a^2}-\\frac{(x-h)^2}{b^2}=1$$\n",
        "\n",
        "$(eje\\quad real\\quad paralelo\\quad al\\quad eje\\quad y)$\n",
        "\n",
        "\n",
        "$FORMA\\quad GENERAL\\quad DE\\quad LA\\quad EC.\\quad\n",
        "DE\\quad LA\\quad HIPÉRBOLA$\n",
        "\n",
        "\n",
        "$$AX^2 + By^2 + DX + Ey + F = O$$\n",
        "\n",
        "$Siendo\\quad A\\quad \\quad y\\quad B\\quad del\\quad\n",
        "mismo\\quad signo.$\n",
        "\n",
        "\n",
        "\n",
        "Hipérbola con excentricidad $$\\displaystyle e=\\frac{5}{3}$$\n",
        "\n",
        "\n",
        "$Ejemplo :$\n",
        "\n",
        "Hallar la ecuación de la hipérbola con foco $$F(4, 0), vértice V(2, 0)y centro C(0, 0).$$\n",
        "\n",
        "Primero, como el centro es el origen C(0,0) y un foco es F(4,0)tenemos que c = 4, además, sabemos que ambos focos están a c unidades del centro, por lo tanto, el otro foco es\n",
        "\n",
        "$$ F'(-c,0) = F'(-4,0).$$\n",
        "\n",
        " \n",
        "\n",
        "Siguiendo la misma analogía que con el foco, sabemos un vértice es V(2,0), por lo tanto a = 2, como ambos vértices están a a unidades del centro, el otro vértice es $$V'(-a,0) = V'(-2,0)$$.\n",
        "\n",
        " \n",
        "\n",
        "Ahora encontremos el valor de b. Tenemos que se cumple que\n",
        "\n",
        " \n",
        "\n",
        "$$\\displaystyle c^2 = a^2 + b^2 \\qquad \\Rightarrow \\qquad b^2 = c^2 - a^2$$\n",
        "\n",
        "\n",
        "esto es\n",
        "\n",
        " $$\\begin{align*}\n",
        "b^2 &= 4^2 - 2^2\\\\&= 16 - 4\\\\&= 12\\end{align*}$$\n",
        " \n",
        "\n",
        "entonces $b = \\sqrt{12} = 2\\sqrt{3}$. Ya tenemos el valor de a y b necesarios para obtener nuestra ecuación reducida de la hipérbola, la cual es\n",
        "\n",
        " \n",
        "\n",
        "$$\\displaystyle \\frac{x^2}{4} - \\frac{y^2}{12} = 1$$"
      ],
      "metadata": {
        "id": "A_FfkWG2lwRC"
      }
    },
    {
      "cell_type": "code",
      "source": [
        "import numpy as np\n",
        "import matplotlib.pyplot as plt\n",
        "\n",
        "# Definir los parámetros de la hipérbola\n",
        "a = 2\n",
        "b = 3\n",
        "\n",
        "# Generar valores para la variable independiente\n",
        "x = np.linspace(-10, 10, 1000)\n",
        "\n",
        "# Calcular los valores correspondientes de la variable dependiente y para las dos ramas de la hipérbola\n",
        "y1 = np.sqrt(b**2 * (x**2 / a**2 + 1))\n",
        "y2 = -np.sqrt(b**2 * (x**2 / a**2 + 1))\n",
        "\n",
        "# Graficar las dos ramas de la hipérbola\n",
        "plt.plot(x, y1, color='b', label='Rama 1')\n",
        "plt.plot(x, y2, color='r', label='Rama 2')\n",
        "\n",
        "# Establecer las etiquetas de los ejes y el título del gráfico\n",
        "plt.xlabel('Eje X')\n",
        "plt.ylabel('Eje Y')\n",
        "plt.title('Hipérbola')\n",
        "\n",
        "# Mostrar la leyenda y el gráfico\n",
        "plt.legend()\n",
        "plt.show()\n"
      ],
      "metadata": {
        "id": "JxN6VKfaqrNM",
        "colab": {
          "base_uri": "https://localhost:8080/",
          "height": 472
        },
        "outputId": "2f3af374-22b2-491d-d5d9-e4516369833d"
      },
      "execution_count": null,
      "outputs": [
        {
          "output_type": "display_data",
          "data": {
            "text/plain": [
              "<Figure size 640x480 with 1 Axes>"
            ],
            "image/png": "[encoded data removed]"
          },
          "metadata": {}
        }
      ]
    },
    {
      "cell_type": "markdown",
      "source": [
        "###***ECS . DE LAS DIRECTRICES RESPECTIVAMENTE :***\n",
        "\n",
        "$$x+\\frac{a}{e}=0\\quad   y\\quad  x-\\frac{a}{e}=0$$ \n",
        "\n",
        "\n",
        "se denomina latus rectum de\n",
        "la elipse a la cuerda perpendicular\n",
        "al eje mayor por uno de los focos. su longitud es\n",
        "$$\\frac{2b^2}{a}$$\n",
        "Si el centro de La elipse fuese\n",
        "\n",
        "el pto (h,k ) y el eje mayor tiene la\n",
        "dirección del eje × , la ecuación de la\n",
        "elipse sería igual a\n",
        "\n",
        "Eje mayor eje x\n",
        "$$\\frac{(x-h)^2}{a^2} +\\frac{(y-k)^2}{b^2} = 1$$\n",
        "\n",
        "\n",
        "Eje mayor eje y\n",
        "$$\\frac{(x-h)^2}{b^2} +\\frac{(y-k)^2}{a^2} = 1$$\n",
        "\n",
        "EN CUALQUIER CASO , LA FORMA GENERAL\n",
        "DE LA EC. DE LA ELIPSE ES :\n",
        "\n",
        "$$Ax^2 + By^2 +DX + Ey + F = 0$$\n",
        "\n",
        "SIEMPRE QUE A y B SEAN DEL\n",
        "MISMO SIGNO.\n"
      ],
      "metadata": {
        "id": "xEZC1Gcbj3Hp"
      }
    },
    {
      "cell_type": "code",
      "source": [
        "import numpy as np\n",
        "import matplotlib.pyplot as plt\n",
        "\n",
        "# Definir los parámetros de la elipse\n",
        "a = 5\n",
        "b = 3\n",
        "\n",
        "# Calcular la distancia focal\n",
        "c = np.sqrt(a**2 - b**2)\n",
        "\n",
        "# Coordenadas del centro\n",
        "h = 0\n",
        "k = 0\n",
        "\n",
        "# Calcular las coordenadas de las directrices\n",
        "d1 = (h-c, k)\n",
        "d2 = (h+c, k)\n",
        "\n",
        "# Generar valores para la variable independiente\n",
        "theta = np.linspace(0, 2*np.pi, 1000)\n",
        "\n",
        "# Calcular los valores correspondientes de la variable dependiente para la elipse\n",
        "x = h + a * np.cos(theta)\n",
        "y = k + b * np.sin(theta)\n",
        "\n",
        "# Graficar la elipse y las directrices\n",
        "plt.plot(x, y, color='b', label='Elipse')\n",
        "plt.plot([d1[0], d2[0]], [d1[1], d2[1]], '--', color='r', label='Directrices')\n",
        "plt.plot([d1[0], d2[0]], [-d1[1], -d2[1]], '--', color='r')\n",
        "\n",
        "# Establecer las etiquetas de los ejes y el título del gráfico\n",
        "plt.xlabel('Eje X')\n",
        "plt.ylabel('Eje Y')\n",
        "plt.title('Elipse con Directrices')\n",
        "\n",
        "# Mostrar el gráfico\n",
        "plt.legend()\n",
        "plt.show()\n",
        "\n",
        "\n",
        "     "
      ],
      "metadata": {
        "id": "3SZZ0zDOljgm",
        "colab": {
          "base_uri": "https://localhost:8080/",
          "height": 472
        },
        "outputId": "59f4a285-44cf-43e3-fd14-3bce7af8f81e"
      },
      "execution_count": null,
      "outputs": [
        {
          "output_type": "display_data",
          "data": {
            "text/plain": [
              "<Figure size 640x480 with 1 Axes>"
            ],
            "image/png": "[encoded data removed]"
          },
          "metadata": {}
        }
      ]
    },
    {
      "cell_type": "markdown",
      "source": [
        "###***Transformaciones Lineales y Vectores Propios***\n",
        "###***Transformaciones Lineales***\n",
        "\n",
        "Una transformación lineal, también conocida como operador lineal o función lineal, es una función matemática que preserva las propiedades de linealidad. Formalmente, una transformación lineal es una función f que mapea vectores de un espacio vectorial V a vectores de otro espacio vectorial W, y cumple con las siguientes dos propiedades:\n",
        "\n",
        "Preservación de la suma: Para cualquier par de vectores u y v en V, la transformación lineal de su suma es igual a la suma de las transformaciones lineales de los vectores por separado:\n",
        "\n",
        "$$f(u + v) = f(u) + f(v)$$\n",
        "\n",
        "Preservación de la multiplicación escalar: Para cualquier vector u en V y cualquier escalar c, la transformación lineal del producto del vector por el escalar es igual al producto del escalar con la transformación lineal del vector:\n",
        "\n",
        "$$f(cu) = cf(u)$$\n",
        "\n",
        "$Ejemplo :$\n",
        "\n",
        "Demuestre que la tranformaciòn $T : R^2→R^2$ definida por\n",
        "\n",
        "\n",
        "$$ \\begin{equation} T =\n",
        "\\begin{pmatrix}\n",
        "X\\\\\n",
        "Y \\ \n",
        "\\end{pmatrix}=\\begin{bmatrix}\n",
        "x + 3 y\\\\\n",
        "x + 2 y\n",
        "\\end{bmatrix}\n",
        "\\end{equation} $$ \n",
        "\n",
        "Soluciòn\n",
        "\n",
        "$$ \\begin{equation} Sean\\quad u=\n",
        "\\begin{bmatrix}\n",
        "X_1\\\\\n",
        "Y_1\\ \n",
        "\\end{bmatrix}y v =  \\begin{bmatrix}\n",
        "x_2\\\\\n",
        "y_2\n",
        "\\end{bmatrix}\n",
        "\\end{equation} $$ \n",
        "\n",
        "Entonces\n",
        "\n",
        "$$ \\begin{equation} T(u+v)\\quad =T\n",
        "\\begin{pmatrix}\n",
        "\\begin{bmatrix}\n",
        "X_1\\\\\n",
        "Y_1\\ \n",
        "\\end{bmatrix}+ \\begin{bmatrix}\n",
        "X_2\\\\\n",
        "Y_2\\ \n",
        "\\end{bmatrix}\\end{pmatrix} = T  \\begin{bmatrix}\n",
        "x_1 + x_2\\\\\n",
        "y_1+ y_2\n",
        "\\end{bmatrix}\n",
        "\\end{equation} $$ \n",
        "\n",
        "$$ \\begin{equation} =\n",
        "\\begin{bmatrix}\n",
        "(x_1+x_2)+3(y_1+y_2)\\\\\n",
        "(x_1+x_2)+2(y_1+y_2)\\ \n",
        "\\end{bmatrix}\n",
        "\\end{equation} $$ \n",
        "\n",
        "\n",
        "$$ \\begin{equation} =\n",
        "\\begin{bmatrix}\n",
        "(x_1+3y_1)\\\\\n",
        "(x_1+2y_1)\\ \n",
        "\\end{bmatrix}\n",
        "\\begin{bmatrix}\n",
        "(x_2+3y_2)\\\\\n",
        "(x_2+2y_2)\\ \n",
        "\\end{bmatrix}\n",
        "\\end{equation} $$ \n",
        "\n",
        "\n",
        "\n",
        "\n",
        "$$ \\begin{equation} T=\n",
        "\\begin{bmatrix}\n",
        "X_1\\\\\n",
        "Y_1\\ \n",
        "\\end{bmatrix}+ T =  \\begin{bmatrix}\n",
        "x_2\\\\\n",
        "y_2\n",
        "\\end{bmatrix} =T(u) + T(v)\n",
        "\\end{equation} $$ \n",
        "\n",
        "Por otro lado, para todo escalar c,\n",
        "\n",
        "$$ \\begin{equation} T(cu)=T\n",
        "\\begin{bmatrix}\n",
        "cX_1\\\\\n",
        "cY_1\\ \n",
        "\\end{bmatrix} \n",
        "\\end{equation} $$\n",
        "\n",
        "\n",
        "\n",
        "$$ \\begin{equation}=\n",
        "\\begin{bmatrix}\n",
        "cx_1+3cy_1\\\\\n",
        "cx_1+2cy_1\\ \n",
        "\\end{bmatrix} \n",
        "\\end{equation} $$\n",
        "\n",
        "\n",
        "\n",
        "$$ \\begin{equation} =C\n",
        "\\begin{bmatrix}\n",
        "x_1+3y_1\\\\\n",
        "x_1+2y_1\\ \n",
        "\\end{bmatrix} \n",
        "\\end{equation} $$\n",
        "\n",
        "\n",
        "$$ \\begin{equation} =cT\n",
        "\\begin{bmatrix}\n",
        "x_1\\\\\n",
        "y_1\\ \n",
        "\\end{bmatrix} \n",
        "\\end{equation} $$\n",
        "\n",
        "$$ \\begin{equation} =cT(u)\n",
        "\\end{equation} $$\n",
        "\n",
        "\n",
        "Como se cumplen las dos condiciones:\n",
        "\n",
        "\n",
        "$$ \\begin{equation} T(u + v)=T(u) + T(v)\n",
        "\\end{equation} $$\n",
        "\n",
        "\n",
        "$$ \\begin{equation} T(c u)=c T(u)\n",
        "\\end{equation} $$\n",
        "\n",
        "T es lineal"
      ],
      "metadata": {
        "id": "tAHtYpgis0kc"
      }
    },
    {
      "cell_type": "code",
      "source": [
        "import numpy as np\n",
        "import matplotlib.pyplot as plt\n",
        "\n",
        "# Definir la matriz de transformación\n",
        "T = np.array([\n",
        "    [2, 1],\n",
        "    [1, 2]\n",
        "])\n",
        "\n",
        "# Definir la matriz de puntos\n",
        "X = np.array([\n",
        "    [1, 2, 3, 4],\n",
        "    [1, 2, 3, 4]\n",
        "])\n",
        "\n",
        "# Calcular la matriz resultante\n",
        "Y = np.dot(T, X)\n",
        "\n",
        "# Graficar los puntos originales y los transformados\n",
        "plt.plot(X[0], X[1], 'bo', label='Puntos originales')\n",
        "plt.plot(Y[0], Y[1], 'rx', label='Puntos transformados')\n",
        "\n",
        "# Establecer las etiquetas de los ejes y el título del gráfico\n",
        "plt.xlabel('Eje X')\n",
        "plt.ylabel('Eje Y')\n",
        "plt.title('Transformación lineal')\n",
        "\n",
        "# Mostrar la leyenda y el gráfico\n",
        "plt.legend()\n",
        "plt.show()\n"
      ],
      "metadata": {
        "colab": {
          "base_uri": "https://localhost:8080/",
          "height": 472
        },
        "id": "4GIbR0MP1N3D",
        "outputId": "b249cee5-b0f8-41d4-fa0f-c3ce3003bed4"
      },
      "execution_count": null,
      "outputs": [
        {
          "output_type": "display_data",
          "data": {
            "text/plain": [
              "<Figure size 640x480 with 1 Axes>"
            ],
            "image/png": "[encoded data removed]"
          },
          "metadata": {}
        }
      ]
    },
    {
      "cell_type": "markdown",
      "source": [
        "###***Vectores Propios***\n",
        "\n",
        "Los vectores propios, también conocidos como vectores eigen, son vectores especiales asociados a una transformación lineal o a una matriz. Cuando se aplica una transformación lineal a un vector propio, el vector resultante es simplemente una versión escalada del vector propio original, es decir, solo cambia su magnitud pero mantiene la misma dirección.\n",
        "\n",
        "Más formalmente, dado un espacio vectorial V y una transformación lineal f que mapea V en sí mismo, un vector propio (o eigenvector, en inglés) v es un vector no nulo en V tal que se cumple la siguiente igualdad:\n",
        "\n",
        "$$f(v) = λv$$\n",
        "\n",
        "$Ejemplo :$\n",
        "\n",
        "Calcula los valores propios y los vectores propios de la siguiente matriz cuadrada de orden 2:\n",
        "\n",
        "$$\\displaystyle A= \\begin{pmatrix}3&1\\\\[1.1ex] 2&4\\end{pmatrix}$$\n",
        "\n",
        "Primero calculamos el determinante de la matriz menos λ en su diagonal principal:\n",
        "\n",
        "$$\\displaystyle \\text{det}(A-\\lambda I)= \\begin{vmatrix}3- \\lambda &1\\\\[1.1ex] 2&4-\\lambda \\end{vmatrix} = \\lambda^2-7\\lambda +10$$\n",
        "\n",
        "Ahora calculamos las raíces del polinomio característico:\n",
        "\n",
        "$$\\displaystyle \\lambda^2-7\\lambda +10=0 \\ \\longrightarrow \\ \\begin{cases} \\lambda = 2 \\\\[2ex] \\lambda = 5 \\end{cases}$$\n",
        "\n",
        "Calculamos el vector propio asociado al valor propio 2:\n",
        "\n",
        "$$\\displaystyle (A- 2I)v=0$$\n",
        "\n",
        "\n",
        "\\begin{pmatrix}1&1\\\\[1.1ex] 2&2\\end{pmatrix}$$ \n",
        "$$\\begin{pmatrix}x \\\\[1.1ex] y \\end{pmatrix} =\n",
        "\\begin{pmatrix}0 \\\\[1.1ex] 0 \\end{pmatrix}\n",
        "\n",
        "$$\\displaystyle \\left.\\begin{array}{l} x+y = 0 \\\\[2ex] 2x+2y = 0\\end{array}\\right\\} \\longrightarrow \\ x=-y$$\n",
        "\n",
        "$$\\displaystyle v = \\begin{pmatrix}1 \\\\[1.1ex] -1 \\end{pmatrix}$$\n",
        "\n",
        "Y luego calculamos el vector propio asociado al valor propio 5:\n",
        "\n",
        "$$\\displaystyle (A-5I)v=0$$\n",
        "\n",
        "\\displaystyle \\begin{pmatrix}-2&1\\\\[1.1ex] 2&-1\\end{pmatrix}\\begin{pmatrix}x \\\\[1.1ex] y \\end{pmatrix} =}\\begin{pmatrix}0 \\\\[1.1ex] 0 \\end{pmatrix}\n",
        "\n",
        "$$\\displaystyle \\left.\\begin{array}{l} -2x+y = 0 \\\\[2ex] 2x-y = 0\\end{array}\\right\\} \\longrightarrow \\ y=2x$$\n",
        "\n",
        "$$\\displaystyle v = \\begin{pmatrix}1 \\\\[1.1ex] 2 \\end{pmatrix}$$\n",
        "\n",
        "\n",
        "\n",
        "Por lo tanto, los valores propios y los vectores propios de la matriz A son:\n",
        "\n",
        "$$\\displaystyle \\lambda = 2 \\qquad v = \\begin{pmatrix}1 \\\\[1.1ex] -1 \\end{pmatrix}$$\n",
        "\n",
        "$$\\displaystyle \\lambda = 5 \\qquad v = \\begin{pmatrix}1\\\\[1.1ex] 2 \\end{pmatrix}$$\n"
      ],
      "metadata": {
        "id": "rvPFYP4Z1Jpx"
      }
    },
    {
      "cell_type": "code",
      "source": [
        "import numpy as np\n",
        "\n",
        "# Definir una matriz de ejemplo\n",
        "A = np.array([[2, 1],\n",
        "              [1, 3]])\n",
        "\n",
        "# Calcular los valores y vectores propios\n",
        "eigenvalues, eigenvectors = np.linalg.eig(A)\n",
        "\n",
        "print(\"Valores propios:\")\n",
        "for eigenvalue in eigenvalues:\n",
        "    print(eigenvalue)\n",
        "\n",
        "print(\"\\nVectores propios:\")\n",
        "for eigenvector in eigenvectors.T:\n",
        "    print(eigenvector)\n",
        "\n",
        "# Definir un vector de ejemplo\n",
        "v = np.array([1, 2])\n",
        "\n",
        "# Calcular la transformación lineal de v\n",
        "transformed_v = A.dot(v)\n",
        "\n",
        "print(\"\\nTransformación lineal de v:\")\n",
        "print(transformed_v)\n"
      ],
      "metadata": {
        "colab": {
          "base_uri": "https://localhost:8080/"
        },
        "id": "Jnmjf6jLnRqT",
        "outputId": "7897042b-116c-46a0-cb24-7d132f99de18"
      },
      "execution_count": null,
      "outputs": [
        {
          "output_type": "stream",
          "name": "stdout",
          "text": [
            "Valores propios:\n",
            "1.381966011250105\n",
            "3.618033988749895\n",
            "\n",
            "Vectores propios:\n",
            "[-0.85065081  0.52573111]\n",
            "[-0.52573111 -0.85065081]\n",
            "\n",
            "Transformación lineal de v:\n",
            "[4 7]\n"
          ]
        }
      ]
    }
  ]
}